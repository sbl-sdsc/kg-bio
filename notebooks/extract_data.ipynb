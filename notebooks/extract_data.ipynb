{
 "cells": [
  {
   "cell_type": "code",
   "execution_count": 8,
   "id": "e3427ff4-651e-4401-adb6-f8ef4101bbc1",
   "metadata": {},
   "outputs": [
    {
     "name": "stdout",
     "output_type": "stream",
     "text": [
      "The autoreload extension is already loaded. To reload it, use:\n",
      "  %reload_ext autoreload\n"
     ]
    }
   ],
   "source": [
    "# reload modules before executing user code\n",
    "%load_ext autoreload\n",
    "%autoreload 2"
   ]
  },
  {
   "cell_type": "code",
   "execution_count": 2,
   "id": "146dcb4b-ebdf-4115-9ba4-6a3395978ccc",
   "metadata": {},
   "outputs": [
    {
     "name": "stdout",
     "output_type": "stream",
     "text": [
      "../cache/UniprotHuman/2022-04-05-103944/uniprot_sprot_human.xml.gz\n",
      ".//{http://uniprot.org/uniprot}\n",
      "_UniprotHuman_2022-04-05-103944\n"
     ]
    }
   ],
   "source": [
    "import extract_uniprot_data as ex\n",
    "\n",
    "filename = '../cache/UniprotHuman/2022-04-05-103944/uniprot_sprot_human.xml.gz'\n",
    "#filename = '../cache/UniprotViruses/2022-04-03-230332/uniprot_sprot_viruses.xml.gz'\n",
    "#filename = '../cache/UniprotMammals/2022-04-03-230317/uniprot_sprot_mammals.xml.gz'\n",
    "# filename = '../cache/UniprotRodents/2022-04-03-230501/uniprot_sprot_rodents.xml.gz'\n",
    "extractor = ex.ExtractUniProt(filename, fileformat='csv', compression=None)\n",
    "extractor.extract_data()"
   ]
  },
  {
   "cell_type": "code",
   "execution_count": 6,
   "id": "1cae8a12-f78d-4e8b-a958-042969a02a5a",
   "metadata": {},
   "outputs": [
    {
     "name": "stdout",
     "output_type": "stream",
     "text": [
      "Number of taxonomyIds: 2413079\n",
      "Number of taxonomyIds: ['synonym' 'scientific name' 'blast name' 'genbank common name' 'in-part'\n",
      " 'authority' 'type material' 'equivalent name' 'includes' 'common name'\n",
      " 'acronym' 'genbank acronym']\n",
      "scientific names: 2413079\n",
      "Number of relationships 2413078\n"
     ]
    }
   ],
   "source": [
    "filename = '../cache/NcbiTaxonomy/2022-04-05-103855/taxdump.tar.gz'\n",
    "extractor = ex.ExtractNcbiTaxonomy(filename, fileformat='csv', compression=None)\n",
    "extractor.extract_data()"
   ]
  },
  {
   "cell_type": "code",
   "execution_count": 11,
   "id": "1f57bc6f-be10-494c-8615-480333390e72",
   "metadata": {},
   "outputs": [
    {
     "name": "stdout",
     "output_type": "stream",
     "text": [
      "../cache/NcbiGenes/2022-04-05-104026/gene_info.gz\n",
      "_NcbiGenes_2022-04-05-104026\n"
     ]
    }
   ],
   "source": [
    "filename = '../cache/NcbiGenes/2022-04-05-104026/gene_info.gz'\n",
    "extractor = ex.ExtractNcbiGenes(filename, fileformat='csv', compression=None)\n",
    "extractor.extract_data()"
   ]
  }
 ],
 "metadata": {
  "kernelspec": {
   "display_name": "Python 3 (ipykernel)",
   "language": "python",
   "name": "python3"
  },
  "language_info": {
   "codemirror_mode": {
    "name": "ipython",
    "version": 3
   },
   "file_extension": ".py",
   "mimetype": "text/x-python",
   "name": "python",
   "nbconvert_exporter": "python",
   "pygments_lexer": "ipython3",
   "version": "3.7.12"
  }
 },
 "nbformat": 4,
 "nbformat_minor": 5
}

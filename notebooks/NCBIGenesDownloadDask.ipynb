{
 "cells": [
  {
   "cell_type": "markdown",
   "metadata": {},
   "source": [
    "# NCBI Genes\n",
    "**[Work in progress]**\n",
    "\n",
    "https://ftp.ncbi.nlm.nih.gov/gene/README\n",
    "\n",
    "https://ftp.ncbi.nlm.nih.gov/gene/DATA/gene2accession.gz\n",
    "\n",
    "https://ftp.ncbi.nlm.nih.gov/gene/DATA/gene_info.gz\n",
    "\n",
    "\n",
    "Data source: [NCBI](https://www.ncbi.nlm.nih.gov)\n",
    "\n",
    "Author: Peter Rose (pwrose@ucsd.edu)"
   ]
  },
  {
   "cell_type": "code",
   "execution_count": 1,
   "metadata": {},
   "outputs": [],
   "source": [
    "import os\n",
    "import pandas as pd\n",
    "from pathlib import Path\n",
    "from functools import reduce"
   ]
  },
  {
   "cell_type": "code",
   "execution_count": 2,
   "metadata": {},
   "outputs": [],
   "source": [
    "pd.options.display.max_rows = None  # display all rows\n",
    "pd.options.display.max_columns = None  # display all columsns"
   ]
  },
  {
   "cell_type": "code",
   "execution_count": 3,
   "metadata": {},
   "outputs": [],
   "source": [
    "# Path will take care of handling operating system differences.\n",
    "NODE_DATA = os.getenv('NODE_DATA', default='../data/nodes/')\n",
    "RELATIONSHIP_DATA = os.getenv('RELATIONSHIP_DATA', default='../data/relationships/')\n",
    "CACHE = os.getenv('KGBIO_CACHE', default='../cache')"
   ]
  },
  {
   "cell_type": "code",
   "execution_count": 4,
   "metadata": {},
   "outputs": [],
   "source": [
    "os.makedirs(os.path.join(CACHE), exist_ok=True)"
   ]
  },
  {
   "cell_type": "code",
   "execution_count": 5,
   "metadata": {},
   "outputs": [],
   "source": [
    "url = 'https://ftp.ncbi.nlm.nih.gov/gene/DATA/gene_info.gz'"
   ]
  },
  {
   "cell_type": "code",
   "execution_count": 6,
   "metadata": {},
   "outputs": [],
   "source": [
    "# url = 'https://ftp.ncbi.nlm.nih.gov/gene/DATA/gene2accession.gz' # ImportError: Missing optional dependency 'fsspec'.  Use pip or conda to install fsspec."
   ]
  },
  {
   "cell_type": "code",
   "execution_count": 7,
   "metadata": {},
   "outputs": [],
   "source": [
    "import shutil\n",
    "import requests\n",
    "\n",
    "def download_file(url, folder_name):\n",
    "    local_filename = url.split('/')[-1]\n",
    "    path = os.path.join(\"{}/{}\".format(folder_name, local_filename))\n",
    "    with requests.get(url, stream=True) as r:\n",
    "        with open(path, 'wb') as f:\n",
    "            shutil.copyfileobj(r.raw, f)\n",
    "\n",
    "    return local_filename"
   ]
  },
  {
   "cell_type": "code",
   "execution_count": 8,
   "metadata": {},
   "outputs": [
    {
     "data": {
      "text/plain": [
       "'gene_info.gz'"
      ]
     },
     "execution_count": 8,
     "metadata": {},
     "output_type": "execute_result"
    }
   ],
   "source": [
    "download_file(url, CACHE)"
   ]
  },
  {
   "cell_type": "markdown",
   "metadata": {
    "tags": []
   },
   "source": [
    "### Import NCBI Taxonomy Names"
   ]
  },
  {
   "cell_type": "code",
   "execution_count": 9,
   "metadata": {},
   "outputs": [],
   "source": [
    "column_names = ['#tax_id', 'GeneID', 'Symbol', 'Synonyms', 'description', 'type_of_gene', 'Symbol_from_nomenclature_authority']"
   ]
  },
  {
   "cell_type": "code",
   "execution_count": 10,
   "metadata": {},
   "outputs": [
    {
     "name": "stderr",
     "output_type": "stream",
     "text": [
      "/Users/Peter/miniconda3/envs/kg-bio/lib/python3.7/site-packages/dask/dataframe/io/csv.py:533: UserWarning: Warning gzip compression does not support breaking apart files\n",
      "Please ensure that each individual file can fit in memory and\n",
      "use the keyword ``blocksize=None to remove this message``\n",
      "Setting ``blocksize=None``\n",
      "  \"Setting ``blocksize=None``\" % compression\n"
     ]
    }
   ],
   "source": [
    "import dask.dataframe as dd\n",
    "genes = dd.read_csv(os.path.join(CACHE, 'gene_info.gz'), usecols=column_names, sep='\\t', dtype=str)"
   ]
  },
  {
   "cell_type": "code",
   "execution_count": 12,
   "metadata": {},
   "outputs": [],
   "source": [
    "#genes = genes.repartition(partition_size=\"100MB\") # generates of 300 partitions (< 10 mb) ???\n",
    "genes = genes.repartition(npartitions=8)"
   ]
  },
  {
   "cell_type": "code",
   "execution_count": 13,
   "metadata": {},
   "outputs": [
    {
     "data": {
      "text/plain": [
       "(None,)"
      ]
     },
     "execution_count": 13,
     "metadata": {},
     "output_type": "execute_result"
    }
   ],
   "source": [
    "genes.to_parquet(os.path.join(CACHE, 'gene_info.parquet'), write_index=False)"
   ]
  },
  {
   "cell_type": "code",
   "execution_count": 14,
   "metadata": {},
   "outputs": [],
   "source": [
    "# https://mungingdata.com/dask/read-csv-to-parquet/"
   ]
  },
  {
   "cell_type": "code",
   "execution_count": 15,
   "metadata": {},
   "outputs": [],
   "source": [
    "#genes = pd.read_csv(os.path.join(CACHE, 'https://ftp.ncbi.nlm.nih.gov/gene/DATA/gene2accession.gz'), dtype=str, sep='\\t')"
   ]
  },
  {
   "cell_type": "code",
   "execution_count": 16,
   "metadata": {},
   "outputs": [],
   "source": [
    "column_names = ['#tax_id', 'GeneID', 'Symbol', 'Synonyms', 'description', 'type_of_gene', 'Symbol_from_nomenclature_authority']"
   ]
  },
  {
   "cell_type": "code",
   "execution_count": 17,
   "metadata": {},
   "outputs": [],
   "source": [
    "#genes = pd.read_csv(os.path.join(CACHE, 'gene_info.gz'), usecols=column_names, dtype=str, sep='\\t')"
   ]
  },
  {
   "cell_type": "code",
   "execution_count": 18,
   "metadata": {},
   "outputs": [
    {
     "data": {
      "text/html": [
       "<div>\n",
       "<style scoped>\n",
       "    .dataframe tbody tr th:only-of-type {\n",
       "        vertical-align: middle;\n",
       "    }\n",
       "\n",
       "    .dataframe tbody tr th {\n",
       "        vertical-align: top;\n",
       "    }\n",
       "\n",
       "    .dataframe thead th {\n",
       "        text-align: right;\n",
       "    }\n",
       "</style>\n",
       "<table border=\"1\" class=\"dataframe\">\n",
       "  <thead>\n",
       "    <tr style=\"text-align: right;\">\n",
       "      <th></th>\n",
       "      <th>#tax_id</th>\n",
       "      <th>GeneID</th>\n",
       "      <th>Symbol</th>\n",
       "      <th>Synonyms</th>\n",
       "      <th>description</th>\n",
       "      <th>type_of_gene</th>\n",
       "      <th>Symbol_from_nomenclature_authority</th>\n",
       "    </tr>\n",
       "  </thead>\n",
       "  <tbody>\n",
       "    <tr>\n",
       "      <th>0</th>\n",
       "      <td>7</td>\n",
       "      <td>5692769</td>\n",
       "      <td>NEWENTRY</td>\n",
       "      <td>-</td>\n",
       "      <td>Record to support submission of GeneRIFs for a...</td>\n",
       "      <td>other</td>\n",
       "      <td>-</td>\n",
       "    </tr>\n",
       "    <tr>\n",
       "      <th>1</th>\n",
       "      <td>9</td>\n",
       "      <td>2827857</td>\n",
       "      <td>NEWENTRY</td>\n",
       "      <td>-</td>\n",
       "      <td>Record to support submission of GeneRIFs for a...</td>\n",
       "      <td>other</td>\n",
       "      <td>-</td>\n",
       "    </tr>\n",
       "    <tr>\n",
       "      <th>2</th>\n",
       "      <td>11</td>\n",
       "      <td>10823747</td>\n",
       "      <td>NEWENTRY</td>\n",
       "      <td>-</td>\n",
       "      <td>Record to support submission of GeneRIFs for a...</td>\n",
       "      <td>other</td>\n",
       "      <td>-</td>\n",
       "    </tr>\n",
       "    <tr>\n",
       "      <th>3</th>\n",
       "      <td>14</td>\n",
       "      <td>6951813</td>\n",
       "      <td>NEWENTRY</td>\n",
       "      <td>-</td>\n",
       "      <td>Record to support submission of GeneRIFs for a...</td>\n",
       "      <td>other</td>\n",
       "      <td>-</td>\n",
       "    </tr>\n",
       "    <tr>\n",
       "      <th>4</th>\n",
       "      <td>19</td>\n",
       "      <td>3758873</td>\n",
       "      <td>NEWENTRY</td>\n",
       "      <td>-</td>\n",
       "      <td>Record to support submission of GeneRIFs for a...</td>\n",
       "      <td>other</td>\n",
       "      <td>-</td>\n",
       "    </tr>\n",
       "  </tbody>\n",
       "</table>\n",
       "</div>"
      ],
      "text/plain": [
       "  #tax_id    GeneID    Symbol Synonyms  \\\n",
       "0       7   5692769  NEWENTRY        -   \n",
       "1       9   2827857  NEWENTRY        -   \n",
       "2      11  10823747  NEWENTRY        -   \n",
       "3      14   6951813  NEWENTRY        -   \n",
       "4      19   3758873  NEWENTRY        -   \n",
       "\n",
       "                                         description type_of_gene  \\\n",
       "0  Record to support submission of GeneRIFs for a...        other   \n",
       "1  Record to support submission of GeneRIFs for a...        other   \n",
       "2  Record to support submission of GeneRIFs for a...        other   \n",
       "3  Record to support submission of GeneRIFs for a...        other   \n",
       "4  Record to support submission of GeneRIFs for a...        other   \n",
       "\n",
       "  Symbol_from_nomenclature_authority  \n",
       "0                                  -  \n",
       "1                                  -  \n",
       "2                                  -  \n",
       "3                                  -  \n",
       "4                                  -  "
      ]
     },
     "execution_count": 18,
     "metadata": {},
     "output_type": "execute_result"
    }
   ],
   "source": [
    "genes.head()"
   ]
  },
  {
   "cell_type": "code",
   "execution_count": 19,
   "metadata": {},
   "outputs": [
    {
     "name": "stdout",
     "output_type": "stream",
     "text": [
      "<class 'dask.dataframe.core.DataFrame'>\n",
      "Columns: 7 entries, #tax_id to Symbol_from_nomenclature_authority\n",
      "dtypes: object(7)"
     ]
    }
   ],
   "source": [
    "genes.info()"
   ]
  },
  {
   "cell_type": "code",
   "execution_count": 20,
   "metadata": {},
   "outputs": [
    {
     "data": {
      "text/html": [
       "<div><strong>Dask DataFrame Structure:</strong></div>\n",
       "<div>\n",
       "<style scoped>\n",
       "    .dataframe tbody tr th:only-of-type {\n",
       "        vertical-align: middle;\n",
       "    }\n",
       "\n",
       "    .dataframe tbody tr th {\n",
       "        vertical-align: top;\n",
       "    }\n",
       "\n",
       "    .dataframe thead th {\n",
       "        text-align: right;\n",
       "    }\n",
       "</style>\n",
       "<table border=\"1\" class=\"dataframe\">\n",
       "  <thead>\n",
       "    <tr style=\"text-align: right;\">\n",
       "      <th></th>\n",
       "      <th>#tax_id</th>\n",
       "      <th>GeneID</th>\n",
       "      <th>Symbol</th>\n",
       "      <th>Synonyms</th>\n",
       "      <th>description</th>\n",
       "      <th>type_of_gene</th>\n",
       "      <th>Symbol_from_nomenclature_authority</th>\n",
       "    </tr>\n",
       "    <tr>\n",
       "      <th>npartitions=8</th>\n",
       "      <th></th>\n",
       "      <th></th>\n",
       "      <th></th>\n",
       "      <th></th>\n",
       "      <th></th>\n",
       "      <th></th>\n",
       "      <th></th>\n",
       "    </tr>\n",
       "  </thead>\n",
       "  <tbody>\n",
       "    <tr>\n",
       "      <th></th>\n",
       "      <td>object</td>\n",
       "      <td>object</td>\n",
       "      <td>object</td>\n",
       "      <td>object</td>\n",
       "      <td>object</td>\n",
       "      <td>object</td>\n",
       "      <td>object</td>\n",
       "    </tr>\n",
       "    <tr>\n",
       "      <th></th>\n",
       "      <td>...</td>\n",
       "      <td>...</td>\n",
       "      <td>...</td>\n",
       "      <td>...</td>\n",
       "      <td>...</td>\n",
       "      <td>...</td>\n",
       "      <td>...</td>\n",
       "    </tr>\n",
       "    <tr>\n",
       "      <th>...</th>\n",
       "      <td>...</td>\n",
       "      <td>...</td>\n",
       "      <td>...</td>\n",
       "      <td>...</td>\n",
       "      <td>...</td>\n",
       "      <td>...</td>\n",
       "      <td>...</td>\n",
       "    </tr>\n",
       "    <tr>\n",
       "      <th></th>\n",
       "      <td>...</td>\n",
       "      <td>...</td>\n",
       "      <td>...</td>\n",
       "      <td>...</td>\n",
       "      <td>...</td>\n",
       "      <td>...</td>\n",
       "      <td>...</td>\n",
       "    </tr>\n",
       "    <tr>\n",
       "      <th></th>\n",
       "      <td>...</td>\n",
       "      <td>...</td>\n",
       "      <td>...</td>\n",
       "      <td>...</td>\n",
       "      <td>...</td>\n",
       "      <td>...</td>\n",
       "      <td>...</td>\n",
       "    </tr>\n",
       "  </tbody>\n",
       "</table>\n",
       "</div>\n",
       "<div>Dask Name: query, 18 tasks</div>"
      ],
      "text/plain": [
       "Dask DataFrame Structure:\n",
       "              #tax_id  GeneID  Symbol Synonyms description type_of_gene Symbol_from_nomenclature_authority\n",
       "npartitions=8                                                                                             \n",
       "               object  object  object   object      object       object                             object\n",
       "                  ...     ...     ...      ...         ...          ...                                ...\n",
       "...               ...     ...     ...      ...         ...          ...                                ...\n",
       "                  ...     ...     ...      ...         ...          ...                                ...\n",
       "                  ...     ...     ...      ...         ...          ...                                ...\n",
       "Dask Name: query, 18 tasks"
      ]
     },
     "execution_count": 20,
     "metadata": {},
     "output_type": "execute_result"
    }
   ],
   "source": [
    "genes.query('GeneID == \"59272\"') #GeneID for ACE2"
   ]
  },
  {
   "cell_type": "code",
   "execution_count": 21,
   "metadata": {},
   "outputs": [
    {
     "name": "stderr",
     "output_type": "stream",
     "text": [
      "\n",
      "KeyboardInterrupt\n",
      "\n"
     ]
    }
   ],
   "source": [
    "genes.compute()"
   ]
  },
  {
   "cell_type": "code",
   "execution_count": null,
   "metadata": {},
   "outputs": [],
   "source": []
  }
 ],
 "metadata": {
  "kernelspec": {
   "display_name": "Python 3 (ipykernel)",
   "language": "python",
   "name": "python3"
  },
  "language_info": {
   "codemirror_mode": {
    "name": "ipython",
    "version": 3
   },
   "file_extension": ".py",
   "mimetype": "text/x-python",
   "name": "python",
   "nbconvert_exporter": "python",
   "pygments_lexer": "ipython3",
   "version": "3.7.12"
  }
 },
 "nbformat": 4,
 "nbformat_minor": 4
}

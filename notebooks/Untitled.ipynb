{
 "cells": [
  {
   "cell_type": "code",
   "execution_count": 2,
   "id": "ec025795-3181-4fc6-8e62-389b6e677f3e",
   "metadata": {},
   "outputs": [],
   "source": [
    "ik = 'XTWYTFMLZFPYCI-KQYNXXCUSA-K'"
   ]
  },
  {
   "cell_type": "code",
   "execution_count": 4,
   "id": "701fb9d3-1ba8-4704-b51f-f5b548788f94",
   "metadata": {},
   "outputs": [
    {
     "data": {
      "text/plain": [
       "'XTWYTFMLZFPYCI-KQYNXXCUSA-N'"
      ]
     },
     "execution_count": 4,
     "metadata": {},
     "output_type": "execute_result"
    }
   ],
   "source": [
    "ik[:-2] + '-N'"
   ]
  },
  {
   "cell_type": "code",
   "execution_count": null,
   "id": "e58a63df-1f2d-4fc8-b3cd-ee073552f8a5",
   "metadata": {},
   "outputs": [],
   "source": []
  }
 ],
 "metadata": {
  "kernelspec": {
   "display_name": "Python 3 (ipykernel)",
   "language": "python",
   "name": "python3"
  },
  "language_info": {
   "codemirror_mode": {
    "name": "ipython",
    "version": 3
   },
   "file_extension": ".py",
   "mimetype": "text/x-python",
   "name": "python",
   "nbconvert_exporter": "python",
   "pygments_lexer": "ipython3",
   "version": "3.7.12"
  }
 },
 "nbformat": 4,
 "nbformat_minor": 5
}

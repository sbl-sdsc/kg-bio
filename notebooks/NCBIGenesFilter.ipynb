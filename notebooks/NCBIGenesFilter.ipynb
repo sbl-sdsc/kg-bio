{
 "cells": [
  {
   "cell_type": "markdown",
   "metadata": {},
   "source": [
    "# NCBI Genes - Filter\n",
    "**[Work in progress]**\n",
    "\n",
    "https://ftp.ncbi.nlm.nih.gov/gene/README\n",
    "\n",
    "https://ftp.ncbi.nlm.nih.gov/gene/DATA/gene2accession.gz\n",
    "\n",
    "https://ftp.ncbi.nlm.nih.gov/gene/DATA/gene_info.gz\n",
    "\n",
    "\n",
    "Data source: [NCBI](https://www.ncbi.nlm.nih.gov)\n",
    "\n",
    "Author: Peter Rose (pwrose@ucsd.edu)"
   ]
  },
  {
   "cell_type": "code",
   "execution_count": 1,
   "metadata": {},
   "outputs": [],
   "source": [
    "import os\n",
    "import pandas as pd\n",
    "from pathlib import Path"
   ]
  },
  {
   "cell_type": "code",
   "execution_count": 2,
   "metadata": {},
   "outputs": [],
   "source": [
    "pd.options.display.max_rows = None  # display all rows\n",
    "pd.options.display.max_columns = None  # display all columsns"
   ]
  },
  {
   "cell_type": "code",
   "execution_count": 3,
   "metadata": {},
   "outputs": [],
   "source": [
    "NODE_DATA = os.getenv('NODE_DATA', default='/Users/Peter/GitRepositories/dkg_data_v0.1.2_2022-03-16/v0.1.2/nodes')\n",
    "RELATIONSHIP_DATA = os.getenv('RELATIONSHIP_DATA', default='/Users/Peter/GitRepositories/dkg_data_v0.1.2_2022-03-16/v0.1.2/relationships')\n",
    "CACHED_NODE_DATA = os.getenv('KGBIO_NODE_DATA', default='../data/nodes/')\n",
    "CACHED_RELATIONSHIP_DATA = os.getenv('KGBIO_RELATIONSHIP_DATA', default='../data/relationships/')\n",
    "CACHE = os.getenv('KGBIO_CACHE', default='../cache')"
   ]
  },
  {
   "cell_type": "code",
   "execution_count": 4,
   "metadata": {},
   "outputs": [],
   "source": [
    "os.makedirs(os.path.join(CACHE), exist_ok=True)"
   ]
  },
  {
   "cell_type": "code",
   "execution_count": 5,
   "metadata": {
    "tags": []
   },
   "outputs": [],
   "source": [
    "rels = pd.read_csv(os.path.join(RELATIONSHIP_DATA, 'DataSet-MENTIONS-Gene_figshare_2021-11-17.csv'), dtype=str)"
   ]
  },
  {
   "cell_type": "code",
   "execution_count": 6,
   "metadata": {},
   "outputs": [
    {
     "data": {
      "text/html": [
       "<div>\n",
       "<style scoped>\n",
       "    .dataframe tbody tr th:only-of-type {\n",
       "        vertical-align: middle;\n",
       "    }\n",
       "\n",
       "    .dataframe tbody tr th {\n",
       "        vertical-align: top;\n",
       "    }\n",
       "\n",
       "    .dataframe thead th {\n",
       "        text-align: right;\n",
       "    }\n",
       "</style>\n",
       "<table border=\"1\" class=\"dataframe\">\n",
       "  <thead>\n",
       "    <tr style=\"text-align: right;\">\n",
       "      <th></th>\n",
       "      <th>from</th>\n",
       "      <th>to</th>\n",
       "    </tr>\n",
       "  </thead>\n",
       "  <tbody>\n",
       "    <tr>\n",
       "      <th>0</th>\n",
       "      <td>https://springernature.figshare.com/articles/d...</td>\n",
       "      <td>ncbigene:57192</td>\n",
       "    </tr>\n",
       "    <tr>\n",
       "      <th>1</th>\n",
       "      <td>https://springernature.figshare.com/articles/d...</td>\n",
       "      <td>ncbigene:56649</td>\n",
       "    </tr>\n",
       "    <tr>\n",
       "      <th>2</th>\n",
       "      <td>https://springernature.figshare.com/articles/d...</td>\n",
       "      <td>ncbigene:59272</td>\n",
       "    </tr>\n",
       "    <tr>\n",
       "      <th>3</th>\n",
       "      <td>https://tandf.figshare.com/articles/dataset/Em...</td>\n",
       "      <td>ncbigene:1803</td>\n",
       "    </tr>\n",
       "    <tr>\n",
       "      <th>4</th>\n",
       "      <td>https://tandf.figshare.com/articles/dataset/Em...</td>\n",
       "      <td>ncbigene:43740568</td>\n",
       "    </tr>\n",
       "  </tbody>\n",
       "</table>\n",
       "</div>"
      ],
      "text/plain": [
       "                                                from                 to\n",
       "0  https://springernature.figshare.com/articles/d...     ncbigene:57192\n",
       "1  https://springernature.figshare.com/articles/d...     ncbigene:56649\n",
       "2  https://springernature.figshare.com/articles/d...     ncbigene:59272\n",
       "3  https://tandf.figshare.com/articles/dataset/Em...      ncbigene:1803\n",
       "4  https://tandf.figshare.com/articles/dataset/Em...  ncbigene:43740568"
      ]
     },
     "execution_count": 6,
     "metadata": {},
     "output_type": "execute_result"
    }
   ],
   "source": [
    "rels.head()"
   ]
  },
  {
   "cell_type": "code",
   "execution_count": 7,
   "metadata": {},
   "outputs": [],
   "source": [
    "ids = rels[['to']].copy()\n",
    "ids.rename(columns={'to': 'id'}, inplace=True)\n",
    "ids.drop_duplicates(inplace=True)"
   ]
  },
  {
   "cell_type": "code",
   "execution_count": 8,
   "metadata": {},
   "outputs": [
    {
     "name": "stdout",
     "output_type": "stream",
     "text": [
      "Number of ids: 759\n"
     ]
    },
    {
     "data": {
      "text/html": [
       "<div>\n",
       "<style scoped>\n",
       "    .dataframe tbody tr th:only-of-type {\n",
       "        vertical-align: middle;\n",
       "    }\n",
       "\n",
       "    .dataframe tbody tr th {\n",
       "        vertical-align: top;\n",
       "    }\n",
       "\n",
       "    .dataframe thead th {\n",
       "        text-align: right;\n",
       "    }\n",
       "</style>\n",
       "<table border=\"1\" class=\"dataframe\">\n",
       "  <thead>\n",
       "    <tr style=\"text-align: right;\">\n",
       "      <th></th>\n",
       "      <th>id</th>\n",
       "    </tr>\n",
       "  </thead>\n",
       "  <tbody>\n",
       "    <tr>\n",
       "      <th>0</th>\n",
       "      <td>ncbigene:57192</td>\n",
       "    </tr>\n",
       "    <tr>\n",
       "      <th>1</th>\n",
       "      <td>ncbigene:56649</td>\n",
       "    </tr>\n",
       "    <tr>\n",
       "      <th>2</th>\n",
       "      <td>ncbigene:59272</td>\n",
       "    </tr>\n",
       "    <tr>\n",
       "      <th>3</th>\n",
       "      <td>ncbigene:1803</td>\n",
       "    </tr>\n",
       "    <tr>\n",
       "      <th>4</th>\n",
       "      <td>ncbigene:43740568</td>\n",
       "    </tr>\n",
       "  </tbody>\n",
       "</table>\n",
       "</div>"
      ],
      "text/plain": [
       "                  id\n",
       "0     ncbigene:57192\n",
       "1     ncbigene:56649\n",
       "2     ncbigene:59272\n",
       "3      ncbigene:1803\n",
       "4  ncbigene:43740568"
      ]
     },
     "execution_count": 8,
     "metadata": {},
     "output_type": "execute_result"
    }
   ],
   "source": [
    "print('Number of ids:', ids.shape[0])\n",
    "ids.head()"
   ]
  },
  {
   "cell_type": "code",
   "execution_count": 9,
   "metadata": {},
   "outputs": [],
   "source": [
    "genes = pd.read_parquet(os.path.join(CACHED_NODE_DATA, 'Gene_ncbi-2022-03-14.parquet'))"
   ]
  },
  {
   "cell_type": "code",
   "execution_count": 10,
   "metadata": {},
   "outputs": [
    {
     "data": {
      "text/html": [
       "<div>\n",
       "<style scoped>\n",
       "    .dataframe tbody tr th:only-of-type {\n",
       "        vertical-align: middle;\n",
       "    }\n",
       "\n",
       "    .dataframe tbody tr th {\n",
       "        vertical-align: top;\n",
       "    }\n",
       "\n",
       "    .dataframe thead th {\n",
       "        text-align: right;\n",
       "    }\n",
       "</style>\n",
       "<table border=\"1\" class=\"dataframe\">\n",
       "  <thead>\n",
       "    <tr style=\"text-align: right;\">\n",
       "      <th></th>\n",
       "      <th>id</th>\n",
       "      <th>name</th>\n",
       "      <th>synonyms</th>\n",
       "      <th>description</th>\n",
       "      <th>officialSymbol</th>\n",
       "      <th>geneType</th>\n",
       "      <th>taxonomyId</th>\n",
       "    </tr>\n",
       "  </thead>\n",
       "  <tbody>\n",
       "    <tr>\n",
       "      <th>10198225</th>\n",
       "      <td>ncbigene:111774539</td>\n",
       "      <td>LOC111774539</td>\n",
       "      <td></td>\n",
       "      <td>uncharacterized LOC111774539</td>\n",
       "      <td></td>\n",
       "      <td>ncRNA</td>\n",
       "      <td>taxonomy:9796</td>\n",
       "    </tr>\n",
       "    <tr>\n",
       "      <th>35918762</th>\n",
       "      <td>ncbigene:115612703</td>\n",
       "      <td>CHIC1</td>\n",
       "      <td></td>\n",
       "      <td>cysteine rich hydrophobic domain 1</td>\n",
       "      <td></td>\n",
       "      <td>protein-coding</td>\n",
       "      <td>taxonomy:2489341</td>\n",
       "    </tr>\n",
       "    <tr>\n",
       "      <th>22759637</th>\n",
       "      <td>ncbigene:101627707</td>\n",
       "      <td>FHIP2B</td>\n",
       "      <td>FAM160B2</td>\n",
       "      <td>FHF complex subunit HOOK interacting protein 2B</td>\n",
       "      <td></td>\n",
       "      <td>protein-coding</td>\n",
       "      <td>taxonomy:143302</td>\n",
       "    </tr>\n",
       "    <tr>\n",
       "      <th>32978098</th>\n",
       "      <td>ncbigene:113639044</td>\n",
       "      <td>LOC113639044</td>\n",
       "      <td></td>\n",
       "      <td>tetraspanin-31-B-like</td>\n",
       "      <td></td>\n",
       "      <td>protein-coding</td>\n",
       "      <td>taxonomy:1234273</td>\n",
       "    </tr>\n",
       "    <tr>\n",
       "      <th>26517167</th>\n",
       "      <td>ncbigene:112507666</td>\n",
       "      <td>LOC112507666</td>\n",
       "      <td></td>\n",
       "      <td>acidic leucine-rich nuclear phosphoprotein 32 ...</td>\n",
       "      <td></td>\n",
       "      <td>protein-coding</td>\n",
       "      <td>taxonomy:309979</td>\n",
       "    </tr>\n",
       "  </tbody>\n",
       "</table>\n",
       "</div>"
      ],
      "text/plain": [
       "                          id          name  synonyms  \\\n",
       "10198225  ncbigene:111774539  LOC111774539             \n",
       "35918762  ncbigene:115612703         CHIC1             \n",
       "22759637  ncbigene:101627707        FHIP2B  FAM160B2   \n",
       "32978098  ncbigene:113639044  LOC113639044             \n",
       "26517167  ncbigene:112507666  LOC112507666             \n",
       "\n",
       "                                                description officialSymbol  \\\n",
       "10198225                       uncharacterized LOC111774539                  \n",
       "35918762                 cysteine rich hydrophobic domain 1                  \n",
       "22759637    FHF complex subunit HOOK interacting protein 2B                  \n",
       "32978098                              tetraspanin-31-B-like                  \n",
       "26517167  acidic leucine-rich nuclear phosphoprotein 32 ...                  \n",
       "\n",
       "                geneType        taxonomyId  \n",
       "10198225           ncRNA     taxonomy:9796  \n",
       "35918762  protein-coding  taxonomy:2489341  \n",
       "22759637  protein-coding   taxonomy:143302  \n",
       "32978098  protein-coding  taxonomy:1234273  \n",
       "26517167  protein-coding   taxonomy:309979  "
      ]
     },
     "execution_count": 10,
     "metadata": {},
     "output_type": "execute_result"
    }
   ],
   "source": [
    "genes.sample(5)"
   ]
  },
  {
   "cell_type": "code",
   "execution_count": 11,
   "metadata": {},
   "outputs": [],
   "source": [
    "nodes_filtered = genes.merge(ids, how='inner')"
   ]
  },
  {
   "cell_type": "code",
   "execution_count": 12,
   "metadata": {},
   "outputs": [
    {
     "data": {
      "text/html": [
       "<div>\n",
       "<style scoped>\n",
       "    .dataframe tbody tr th:only-of-type {\n",
       "        vertical-align: middle;\n",
       "    }\n",
       "\n",
       "    .dataframe tbody tr th {\n",
       "        vertical-align: top;\n",
       "    }\n",
       "\n",
       "    .dataframe thead th {\n",
       "        text-align: right;\n",
       "    }\n",
       "</style>\n",
       "<table border=\"1\" class=\"dataframe\">\n",
       "  <thead>\n",
       "    <tr style=\"text-align: right;\">\n",
       "      <th></th>\n",
       "      <th>id</th>\n",
       "      <th>name</th>\n",
       "      <th>synonyms</th>\n",
       "      <th>description</th>\n",
       "      <th>officialSymbol</th>\n",
       "      <th>geneType</th>\n",
       "      <th>taxonomyId</th>\n",
       "    </tr>\n",
       "  </thead>\n",
       "  <tbody>\n",
       "    <tr>\n",
       "      <th>271</th>\n",
       "      <td>ncbigene:4070</td>\n",
       "      <td>TACSTD2</td>\n",
       "      <td>EGP-1|EGP1|GA733-1|GA7331|GP50|M1S1|TROP2</td>\n",
       "      <td>tumor associated calcium signal transducer 2</td>\n",
       "      <td>TACSTD2</td>\n",
       "      <td>protein-coding</td>\n",
       "      <td>taxonomy:9606</td>\n",
       "    </tr>\n",
       "    <tr>\n",
       "      <th>331</th>\n",
       "      <td>ncbigene:5367</td>\n",
       "      <td>PMCH</td>\n",
       "      <td>MCH|ppMCH</td>\n",
       "      <td>pro-melanin concentrating hormone</td>\n",
       "      <td>PMCH</td>\n",
       "      <td>protein-coding</td>\n",
       "      <td>taxonomy:9606</td>\n",
       "    </tr>\n",
       "    <tr>\n",
       "      <th>315</th>\n",
       "      <td>ncbigene:5005</td>\n",
       "      <td>ORM2</td>\n",
       "      <td>AGP-B|AGP-B'|AGP2</td>\n",
       "      <td>orosomucoid 2</td>\n",
       "      <td>ORM2</td>\n",
       "      <td>protein-coding</td>\n",
       "      <td>taxonomy:9606</td>\n",
       "    </tr>\n",
       "    <tr>\n",
       "      <th>368</th>\n",
       "      <td>ncbigene:6253</td>\n",
       "      <td>RTN2</td>\n",
       "      <td>NSP2|NSPL1|NSPLI|SPG12</td>\n",
       "      <td>reticulon 2</td>\n",
       "      <td>RTN2</td>\n",
       "      <td>protein-coding</td>\n",
       "      <td>taxonomy:9606</td>\n",
       "    </tr>\n",
       "    <tr>\n",
       "      <th>646</th>\n",
       "      <td>ncbigene:94025</td>\n",
       "      <td>MUC16</td>\n",
       "      <td>CA125</td>\n",
       "      <td>mucin 16, cell surface associated</td>\n",
       "      <td>MUC16</td>\n",
       "      <td>protein-coding</td>\n",
       "      <td>taxonomy:9606</td>\n",
       "    </tr>\n",
       "  </tbody>\n",
       "</table>\n",
       "</div>"
      ],
      "text/plain": [
       "                 id     name                                   synonyms  \\\n",
       "271   ncbigene:4070  TACSTD2  EGP-1|EGP1|GA733-1|GA7331|GP50|M1S1|TROP2   \n",
       "331   ncbigene:5367     PMCH                                  MCH|ppMCH   \n",
       "315   ncbigene:5005     ORM2                          AGP-B|AGP-B'|AGP2   \n",
       "368   ncbigene:6253     RTN2                     NSP2|NSPL1|NSPLI|SPG12   \n",
       "646  ncbigene:94025    MUC16                                      CA125   \n",
       "\n",
       "                                      description officialSymbol  \\\n",
       "271  tumor associated calcium signal transducer 2        TACSTD2   \n",
       "331             pro-melanin concentrating hormone           PMCH   \n",
       "315                                 orosomucoid 2           ORM2   \n",
       "368                                   reticulon 2           RTN2   \n",
       "646             mucin 16, cell surface associated          MUC16   \n",
       "\n",
       "           geneType     taxonomyId  \n",
       "271  protein-coding  taxonomy:9606  \n",
       "331  protein-coding  taxonomy:9606  \n",
       "315  protein-coding  taxonomy:9606  \n",
       "368  protein-coding  taxonomy:9606  \n",
       "646  protein-coding  taxonomy:9606  "
      ]
     },
     "execution_count": 12,
     "metadata": {},
     "output_type": "execute_result"
    }
   ],
   "source": [
    "nodes_filtered.sample(5)"
   ]
  },
  {
   "cell_type": "code",
   "execution_count": 13,
   "metadata": {},
   "outputs": [
    {
     "name": "stdout",
     "output_type": "stream",
     "text": [
      "Nodes filtered: 754\n"
     ]
    }
   ],
   "source": [
    "print('Nodes filtered:', nodes_filtered.shape[0])"
   ]
  },
  {
   "cell_type": "markdown",
   "metadata": {},
   "source": [
    "## Setup Output Directories"
   ]
  },
  {
   "cell_type": "code",
   "execution_count": 14,
   "metadata": {},
   "outputs": [],
   "source": [
    "NODE_DATA = os.getenv('NODE_DATA', default='../data/nodes/')\n",
    "RELATIONSHIP_DATA = os.getenv('RELATIONSHIP_DATA', default='../data/relationships/') "
   ]
  },
  {
   "cell_type": "code",
   "execution_count": 15,
   "metadata": {},
   "outputs": [],
   "source": [
    "os.makedirs(os.path.join(NODE_DATA), exist_ok=True)\n",
    "os.makedirs(os.path.join(RELATIONSHIP_DATA), exist_ok=True)"
   ]
  },
  {
   "cell_type": "code",
   "execution_count": 16,
   "metadata": {},
   "outputs": [
    {
     "name": "stdout",
     "output_type": "stream",
     "text": [
      "Number of nodes 754\n"
     ]
    }
   ],
   "source": [
    "print('Number of nodes', nodes_filtered.shape[0])"
   ]
  },
  {
   "cell_type": "code",
   "execution_count": 17,
   "metadata": {},
   "outputs": [],
   "source": [
    "nodes_filtered.to_csv(os.path.join(NODE_DATA, 'Gene_ncbi-2022-03-14.csv'), index=False)"
   ]
  },
  {
   "cell_type": "code",
   "execution_count": null,
   "metadata": {},
   "outputs": [],
   "source": [
    "relationships = nodes_filtered[['taxonomyId', 'id']].copy()\n",
    "relationships.drop_duplicates(inplace=True)\n",
    "relationships.rename(columns={'taxonomyId': 'from', 'id': 'to'}, inplace=True)"
   ]
  },
  {
   "cell_type": "code",
   "execution_count": null,
   "metadata": {},
   "outputs": [],
   "source": [
    "print('Number of relationships', relationships.shape[0])"
   ]
  },
  {
   "cell_type": "code",
   "execution_count": null,
   "metadata": {},
   "outputs": [],
   "source": [
    "relationships.to_csv(os.path.join(RELATIONSHIP_DATA, 'Organism-ENCODES-Gene_ncbi-2022-03-14.csv'), index=False)"
   ]
  }
 ],
 "metadata": {
  "kernelspec": {
   "display_name": "Python 3 (ipykernel)",
   "language": "python",
   "name": "python3"
  },
  "language_info": {
   "codemirror_mode": {
    "name": "ipython",
    "version": 3
   },
   "file_extension": ".py",
   "mimetype": "text/x-python",
   "name": "python",
   "nbconvert_exporter": "python",
   "pygments_lexer": "ipython3",
   "version": "3.7.12"
  }
 },
 "nbformat": 4,
 "nbformat_minor": 4
}

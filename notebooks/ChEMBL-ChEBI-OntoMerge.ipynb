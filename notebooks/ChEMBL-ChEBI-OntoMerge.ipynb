{
 "cells": [
  {
   "cell_type": "markdown",
   "metadata": {},
   "source": [
    "# ChEMBL Compound - Prepare\n",
    "**[Work in progress]**\n",
    "\n",
    "https://ftp.ebi.ac.uk/pub/databases/chembl/ChEMBLdb/latest/README\n",
    "\n",
    "Smiles, InChI, InChIKey\n",
    "https://ftp.ebi.ac.uk/pub/databases/chembl/ChEMBLdb/latest/chembl_30_chemreps.txt.gz\n",
    "\n",
    "\n",
    "Data source: [ChEMBL](https://www.ebi.ac.uk/chembl/)\n",
    "\n",
    "Author: Peter Rose (pwrose@ucsd.edu)"
   ]
  },
  {
   "cell_type": "code",
   "execution_count": 15,
   "metadata": {},
   "outputs": [],
   "source": [
    "import os\n",
    "import pandas as pd\n",
    "from pathlib import Path"
   ]
  },
  {
   "cell_type": "code",
   "execution_count": 16,
   "metadata": {},
   "outputs": [],
   "source": [
    "pd.options.display.max_rows = None  # display all rows\n",
    "pd.options.display.max_columns = None  # display all columsns"
   ]
  },
  {
   "cell_type": "code",
   "execution_count": 17,
   "metadata": {},
   "outputs": [],
   "source": [
    "# Path will take care of handling operating system differences.\n",
    "NODE_DATA = os.getenv('NODE_DATA', default='../data/nodes/')\n",
    "RELATIONSHIP_DATA = os.getenv('RELATIONSHIP_DATA', default='../data/relationships/')\n",
    "CACHE = os.getenv('KGBIO_CACHE', default='../cache')"
   ]
  },
  {
   "cell_type": "code",
   "execution_count": 18,
   "metadata": {},
   "outputs": [],
   "source": [
    "os.makedirs(os.path.join(CACHE), exist_ok=True)"
   ]
  },
  {
   "cell_type": "markdown",
   "metadata": {
    "tags": []
   },
   "source": [
    "### Import NCBI Taxonomy Names"
   ]
  },
  {
   "cell_type": "code",
   "execution_count": 19,
   "metadata": {},
   "outputs": [
    {
     "name": "stdout",
     "output_type": "stream",
     "text": [
      "Number of ChEMBL compounds: 2136187\n"
     ]
    },
    {
     "data": {
      "text/html": [
       "<div>\n",
       "<style scoped>\n",
       "    .dataframe tbody tr th:only-of-type {\n",
       "        vertical-align: middle;\n",
       "    }\n",
       "\n",
       "    .dataframe tbody tr th {\n",
       "        vertical-align: top;\n",
       "    }\n",
       "\n",
       "    .dataframe thead th {\n",
       "        text-align: right;\n",
       "    }\n",
       "</style>\n",
       "<table border=\"1\" class=\"dataframe\">\n",
       "  <thead>\n",
       "    <tr style=\"text-align: right;\">\n",
       "      <th></th>\n",
       "      <th>id</th>\n",
       "      <th>smiles</th>\n",
       "      <th>inchi</th>\n",
       "      <th>inchiKey</th>\n",
       "      <th>name</th>\n",
       "    </tr>\n",
       "  </thead>\n",
       "  <tbody>\n",
       "    <tr>\n",
       "      <th>0</th>\n",
       "      <td>chembl:CHEMBL153534</td>\n",
       "      <td>Cc1cc(-c2csc(N=C(N)N)n2)cn1C</td>\n",
       "      <td>InChI=1S/C10H13N5S/c1-6-3-7(4-15(6)2)8-5-16-10...</td>\n",
       "      <td>MFRNFCWYPYSFQQ-UHFFFAOYSA-N</td>\n",
       "      <td>CHEMBL153534</td>\n",
       "    </tr>\n",
       "    <tr>\n",
       "      <th>1</th>\n",
       "      <td>chembl:CHEMBL440060</td>\n",
       "      <td>CC[C@H](C)[C@H](NC(=O)[C@H](CC(C)C)NC(=O)[C@@H...</td>\n",
       "      <td>InChI=1S/C123H212N44O34S/c1-19-63(12)96(164-11...</td>\n",
       "      <td>RSEQNZQKBMRQNM-VRGFNVLHSA-N</td>\n",
       "      <td>CHEMBL440060</td>\n",
       "    </tr>\n",
       "  </tbody>\n",
       "</table>\n",
       "</div>"
      ],
      "text/plain": [
       "                    id                                             smiles  \\\n",
       "0  chembl:CHEMBL153534                       Cc1cc(-c2csc(N=C(N)N)n2)cn1C   \n",
       "1  chembl:CHEMBL440060  CC[C@H](C)[C@H](NC(=O)[C@H](CC(C)C)NC(=O)[C@@H...   \n",
       "\n",
       "                                               inchi  \\\n",
       "0  InChI=1S/C10H13N5S/c1-6-3-7(4-15(6)2)8-5-16-10...   \n",
       "1  InChI=1S/C123H212N44O34S/c1-19-63(12)96(164-11...   \n",
       "\n",
       "                      inchiKey          name  \n",
       "0  MFRNFCWYPYSFQQ-UHFFFAOYSA-N  CHEMBL153534  \n",
       "1  RSEQNZQKBMRQNM-VRGFNVLHSA-N  CHEMBL440060  "
      ]
     },
     "execution_count": 19,
     "metadata": {},
     "output_type": "execute_result"
    }
   ],
   "source": [
    "chembl = pd.read_parquet(os.path.join(NODE_DATA, 'Compound_chembl_70.parquet'))\n",
    "print('Number of ChEMBL compounds:', chembl.shape[0])\n",
    "chembl.head(2)"
   ]
  },
  {
   "cell_type": "code",
   "execution_count": 20,
   "metadata": {},
   "outputs": [
    {
     "name": "stdout",
     "output_type": "stream",
     "text": [
      "Number of ChEBI compounds: 178080\n"
     ]
    },
    {
     "data": {
      "text/html": [
       "<div>\n",
       "<style scoped>\n",
       "    .dataframe tbody tr th:only-of-type {\n",
       "        vertical-align: middle;\n",
       "    }\n",
       "\n",
       "    .dataframe tbody tr th {\n",
       "        vertical-align: top;\n",
       "    }\n",
       "\n",
       "    .dataframe thead th {\n",
       "        text-align: right;\n",
       "    }\n",
       "</style>\n",
       "<table border=\"1\" class=\"dataframe\">\n",
       "  <thead>\n",
       "    <tr style=\"text-align: right;\">\n",
       "      <th></th>\n",
       "      <th>id</th>\n",
       "      <th>name</th>\n",
       "      <th>synonyms</th>\n",
       "      <th>definition</th>\n",
       "      <th>url</th>\n",
       "      <th>inchi</th>\n",
       "      <th>inchiKey</th>\n",
       "      <th>smiles</th>\n",
       "      <th>formula</th>\n",
       "      <th>mass</th>\n",
       "      <th>xref</th>\n",
       "    </tr>\n",
       "  </thead>\n",
       "  <tbody>\n",
       "    <tr>\n",
       "      <th>0</th>\n",
       "      <td>chebi:CHEBI_101465</td>\n",
       "      <td>(2S,3S,4R)-4-(hydroxymethyl)-1-(2-methoxy-1-ox...</td>\n",
       "      <td></td>\n",
       "      <td></td>\n",
       "      <td>http://purl.obolibrary.org/obo/CHEBI_101465</td>\n",
       "      <td>InChI=1S/C19H19N3O3/c1-25-12-18(24)22-16(9-20)...</td>\n",
       "      <td>NONDGOMIDWLUNU-AOIWGVFYSA-N</td>\n",
       "      <td>COCC(=O)N1[C@H]([C@H]([C@H]1C#N)C2=CC=C(C=C2)C...</td>\n",
       "      <td>C19H19N3O3</td>\n",
       "      <td>337.373</td>\n",
       "      <td>LINCS:LSM-12828</td>\n",
       "    </tr>\n",
       "    <tr>\n",
       "      <th>1</th>\n",
       "      <td>chebi:CHEBI_159237</td>\n",
       "      <td>Leu-His-Glu</td>\n",
       "      <td>(2S)-2-[[(2S)-2-[[(2S)-2-amino-4-methylpentano...</td>\n",
       "      <td></td>\n",
       "      <td>http://purl.obolibrary.org/obo/CHEBI_159237</td>\n",
       "      <td>InChI=1S/C17H27N5O6/c1-9(2)5-11(18)15(25)22-13...</td>\n",
       "      <td>KXODZBLFVFSLAI-AVGNSLFASA-N</td>\n",
       "      <td>O=C(N[C@@H](CC=1NC=NC1)C(=O)N[C@@H](CCC(O)=O)C...</td>\n",
       "      <td>C17H27N5O6</td>\n",
       "      <td>397.432</td>\n",
       "      <td>Chemspider:58808728</td>\n",
       "    </tr>\n",
       "  </tbody>\n",
       "</table>\n",
       "</div>"
      ],
      "text/plain": [
       "                   id                                               name  \\\n",
       "0  chebi:CHEBI_101465  (2S,3S,4R)-4-(hydroxymethyl)-1-(2-methoxy-1-ox...   \n",
       "1  chebi:CHEBI_159237                                        Leu-His-Glu   \n",
       "\n",
       "                                            synonyms definition  \\\n",
       "0                                                                 \n",
       "1  (2S)-2-[[(2S)-2-[[(2S)-2-amino-4-methylpentano...              \n",
       "\n",
       "                                           url  \\\n",
       "0  http://purl.obolibrary.org/obo/CHEBI_101465   \n",
       "1  http://purl.obolibrary.org/obo/CHEBI_159237   \n",
       "\n",
       "                                               inchi  \\\n",
       "0  InChI=1S/C19H19N3O3/c1-25-12-18(24)22-16(9-20)...   \n",
       "1  InChI=1S/C17H27N5O6/c1-9(2)5-11(18)15(25)22-13...   \n",
       "\n",
       "                      inchiKey  \\\n",
       "0  NONDGOMIDWLUNU-AOIWGVFYSA-N   \n",
       "1  KXODZBLFVFSLAI-AVGNSLFASA-N   \n",
       "\n",
       "                                              smiles     formula     mass  \\\n",
       "0  COCC(=O)N1[C@H]([C@H]([C@H]1C#N)C2=CC=C(C=C2)C...  C19H19N3O3  337.373   \n",
       "1  O=C(N[C@@H](CC=1NC=NC1)C(=O)N[C@@H](CCC(O)=O)C...  C17H27N5O6  397.432   \n",
       "\n",
       "                  xref  \n",
       "0      LINCS:LSM-12828  \n",
       "1  Chemspider:58808728  "
      ]
     },
     "execution_count": 20,
     "metadata": {},
     "output_type": "execute_result"
    }
   ],
   "source": [
    "#chebi = pd.read_parquet(os.path.join(NODE_DATA, 'Compound_chebi_2022-03-10.parquet'))\n",
    "chebi = pd.read_csv(os.path.join(NODE_DATA, '/Users/Peter/GitRepositories/kg-onto/data/nodes/Compound_chebi_209-2022-03-10.csv'))\n",
    "chebi.fillna('', inplace=True)\n",
    "print('Number of ChEBI compounds:', chebi.shape[0])\n",
    "chebi.head(2)"
   ]
  },
  {
   "cell_type": "code",
   "execution_count": 21,
   "metadata": {},
   "outputs": [
    {
     "name": "stdout",
     "output_type": "stream",
     "text": [
      "ChEBI compounds with InChIKey: 136648\n",
      "ChEBI compounds without InChIKey: 41432\n"
     ]
    }
   ],
   "source": [
    "print('ChEBI compounds with InChIKey:', chebi.query('inchiKey != \"\"').shape[0])\n",
    "print('ChEBI compounds without InChIKey:', chebi.query('inchiKey == \"\"').shape[0])"
   ]
  },
  {
   "cell_type": "code",
   "execution_count": 28,
   "metadata": {},
   "outputs": [],
   "source": [
    "#compounds = chembl.merge(chebi, on='inchiKey')\n",
    "compounds = chembl.merge(chebi, how='outer')"
   ]
  },
  {
   "cell_type": "code",
   "execution_count": 29,
   "metadata": {},
   "outputs": [
    {
     "name": "stdout",
     "output_type": "stream",
     "text": [
      "Number of compounds: 2314267\n"
     ]
    }
   ],
   "source": [
    "print('Number of compounds:', compounds.shape[0])"
   ]
  },
  {
   "cell_type": "code",
   "execution_count": 30,
   "metadata": {},
   "outputs": [
    {
     "data": {
      "text/html": [
       "<div>\n",
       "<style scoped>\n",
       "    .dataframe tbody tr th:only-of-type {\n",
       "        vertical-align: middle;\n",
       "    }\n",
       "\n",
       "    .dataframe tbody tr th {\n",
       "        vertical-align: top;\n",
       "    }\n",
       "\n",
       "    .dataframe thead th {\n",
       "        text-align: right;\n",
       "    }\n",
       "</style>\n",
       "<table border=\"1\" class=\"dataframe\">\n",
       "  <thead>\n",
       "    <tr style=\"text-align: right;\">\n",
       "      <th></th>\n",
       "      <th>id</th>\n",
       "      <th>smiles</th>\n",
       "      <th>inchi</th>\n",
       "      <th>inchiKey</th>\n",
       "      <th>name</th>\n",
       "      <th>synonyms</th>\n",
       "      <th>definition</th>\n",
       "      <th>url</th>\n",
       "      <th>formula</th>\n",
       "      <th>mass</th>\n",
       "      <th>xref</th>\n",
       "    </tr>\n",
       "  </thead>\n",
       "  <tbody>\n",
       "    <tr>\n",
       "      <th>0</th>\n",
       "      <td>chembl:CHEMBL153534</td>\n",
       "      <td>Cc1cc(-c2csc(N=C(N)N)n2)cn1C</td>\n",
       "      <td>InChI=1S/C10H13N5S/c1-6-3-7(4-15(6)2)8-5-16-10...</td>\n",
       "      <td>MFRNFCWYPYSFQQ-UHFFFAOYSA-N</td>\n",
       "      <td>CHEMBL153534</td>\n",
       "      <td>NaN</td>\n",
       "      <td>NaN</td>\n",
       "      <td>NaN</td>\n",
       "      <td>NaN</td>\n",
       "      <td>NaN</td>\n",
       "      <td>NaN</td>\n",
       "    </tr>\n",
       "    <tr>\n",
       "      <th>1</th>\n",
       "      <td>chembl:CHEMBL440060</td>\n",
       "      <td>CC[C@H](C)[C@H](NC(=O)[C@H](CC(C)C)NC(=O)[C@@H...</td>\n",
       "      <td>InChI=1S/C123H212N44O34S/c1-19-63(12)96(164-11...</td>\n",
       "      <td>RSEQNZQKBMRQNM-VRGFNVLHSA-N</td>\n",
       "      <td>CHEMBL440060</td>\n",
       "      <td>NaN</td>\n",
       "      <td>NaN</td>\n",
       "      <td>NaN</td>\n",
       "      <td>NaN</td>\n",
       "      <td>NaN</td>\n",
       "      <td>NaN</td>\n",
       "    </tr>\n",
       "    <tr>\n",
       "      <th>2</th>\n",
       "      <td>chembl:CHEMBL440245</td>\n",
       "      <td>CCCC[C@@H]1NC(=O)[C@@H](NC(=O)[C@H](CC(C)C)NC(...</td>\n",
       "      <td>InChI=1S/C160H268N50O41/c1-23-27-41-95-134(228...</td>\n",
       "      <td>FTKBTEIKPOYCEX-OZSLQWTKSA-N</td>\n",
       "      <td>CHEMBL440245</td>\n",
       "      <td>NaN</td>\n",
       "      <td>NaN</td>\n",
       "      <td>NaN</td>\n",
       "      <td>NaN</td>\n",
       "      <td>NaN</td>\n",
       "      <td>NaN</td>\n",
       "    </tr>\n",
       "    <tr>\n",
       "      <th>3</th>\n",
       "      <td>chembl:CHEMBL440249</td>\n",
       "      <td>CC(C)C[C@@H]1NC(=O)CNC(=O)[C@H](c2ccc(O)cc2)NC...</td>\n",
       "      <td>InChI=1S/C124H154ClN21O39/c1-57(2)48-81-112(17...</td>\n",
       "      <td>UYSXXKGACMHPIM-KFGDMSGDSA-N</td>\n",
       "      <td>CHEMBL440249</td>\n",
       "      <td>NaN</td>\n",
       "      <td>NaN</td>\n",
       "      <td>NaN</td>\n",
       "      <td>NaN</td>\n",
       "      <td>NaN</td>\n",
       "      <td>NaN</td>\n",
       "    </tr>\n",
       "    <tr>\n",
       "      <th>4</th>\n",
       "      <td>chembl:CHEMBL405398</td>\n",
       "      <td>Brc1cccc(Nc2ncnc3ccncc23)c1NCCN1CCOCC1</td>\n",
       "      <td>InChI=1S/C19H21BrN6O/c20-15-2-1-3-17(18(15)22-...</td>\n",
       "      <td>VDSXZXJEWIWBCG-UHFFFAOYSA-N</td>\n",
       "      <td>CHEMBL405398</td>\n",
       "      <td>NaN</td>\n",
       "      <td>NaN</td>\n",
       "      <td>NaN</td>\n",
       "      <td>NaN</td>\n",
       "      <td>NaN</td>\n",
       "      <td>NaN</td>\n",
       "    </tr>\n",
       "  </tbody>\n",
       "</table>\n",
       "</div>"
      ],
      "text/plain": [
       "                    id                                             smiles  \\\n",
       "0  chembl:CHEMBL153534                       Cc1cc(-c2csc(N=C(N)N)n2)cn1C   \n",
       "1  chembl:CHEMBL440060  CC[C@H](C)[C@H](NC(=O)[C@H](CC(C)C)NC(=O)[C@@H...   \n",
       "2  chembl:CHEMBL440245  CCCC[C@@H]1NC(=O)[C@@H](NC(=O)[C@H](CC(C)C)NC(...   \n",
       "3  chembl:CHEMBL440249  CC(C)C[C@@H]1NC(=O)CNC(=O)[C@H](c2ccc(O)cc2)NC...   \n",
       "4  chembl:CHEMBL405398             Brc1cccc(Nc2ncnc3ccncc23)c1NCCN1CCOCC1   \n",
       "\n",
       "                                               inchi  \\\n",
       "0  InChI=1S/C10H13N5S/c1-6-3-7(4-15(6)2)8-5-16-10...   \n",
       "1  InChI=1S/C123H212N44O34S/c1-19-63(12)96(164-11...   \n",
       "2  InChI=1S/C160H268N50O41/c1-23-27-41-95-134(228...   \n",
       "3  InChI=1S/C124H154ClN21O39/c1-57(2)48-81-112(17...   \n",
       "4  InChI=1S/C19H21BrN6O/c20-15-2-1-3-17(18(15)22-...   \n",
       "\n",
       "                      inchiKey          name synonyms definition  url formula  \\\n",
       "0  MFRNFCWYPYSFQQ-UHFFFAOYSA-N  CHEMBL153534      NaN        NaN  NaN     NaN   \n",
       "1  RSEQNZQKBMRQNM-VRGFNVLHSA-N  CHEMBL440060      NaN        NaN  NaN     NaN   \n",
       "2  FTKBTEIKPOYCEX-OZSLQWTKSA-N  CHEMBL440245      NaN        NaN  NaN     NaN   \n",
       "3  UYSXXKGACMHPIM-KFGDMSGDSA-N  CHEMBL440249      NaN        NaN  NaN     NaN   \n",
       "4  VDSXZXJEWIWBCG-UHFFFAOYSA-N  CHEMBL405398      NaN        NaN  NaN     NaN   \n",
       "\n",
       "  mass xref  \n",
       "0  NaN  NaN  \n",
       "1  NaN  NaN  \n",
       "2  NaN  NaN  \n",
       "3  NaN  NaN  \n",
       "4  NaN  NaN  "
      ]
     },
     "execution_count": 30,
     "metadata": {},
     "output_type": "execute_result"
    }
   ],
   "source": [
    "compounds.head()"
   ]
  },
  {
   "cell_type": "code",
   "execution_count": 25,
   "metadata": {},
   "outputs": [],
   "source": [
    "NODE_DATA = os.getenv('NODE_DATA', default='../data/nodes/')\n",
    "RELATIONSHIP_DATA = os.getenv('RELATIONSHIP_DATA', default='../data/relationships/') "
   ]
  },
  {
   "cell_type": "code",
   "execution_count": 26,
   "metadata": {},
   "outputs": [],
   "source": [
    "os.makedirs(os.path.join(NODE_DATA), exist_ok=True)\n",
    "os.makedirs(os.path.join(RELATIONSHIP_DATA), exist_ok=True)"
   ]
  },
  {
   "cell_type": "code",
   "execution_count": 27,
   "metadata": {},
   "outputs": [],
   "source": [
    "#print('Number of nodes', nodes.shape[0])"
   ]
  },
  {
   "cell_type": "code",
   "execution_count": 13,
   "metadata": {},
   "outputs": [],
   "source": [
    "#nodes.to_parquet(os.path.join(NODE_DATA, 'Compound_chembl_70.parquet'), compression='brotli', index=False)"
   ]
  },
  {
   "cell_type": "code",
   "execution_count": null,
   "metadata": {},
   "outputs": [],
   "source": []
  }
 ],
 "metadata": {
  "kernelspec": {
   "display_name": "Python 3 (ipykernel)",
   "language": "python",
   "name": "python3"
  },
  "language_info": {
   "codemirror_mode": {
    "name": "ipython",
    "version": 3
   },
   "file_extension": ".py",
   "mimetype": "text/x-python",
   "name": "python",
   "nbconvert_exporter": "python",
   "pygments_lexer": "ipython3",
   "version": "3.7.12"
  }
 },
 "nbformat": 4,
 "nbformat_minor": 4
}

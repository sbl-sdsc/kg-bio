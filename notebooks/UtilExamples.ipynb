{
 "cells": [
  {
   "cell_type": "code",
   "execution_count": 1,
   "id": "9e084bd3-e022-4266-a135-87f8e0b513e5",
   "metadata": {},
   "outputs": [],
   "source": [
    "import pandas as pd\n",
    "from utils import join_string_columns"
   ]
  },
  {
   "cell_type": "code",
   "execution_count": 2,
   "id": "9652a528-b52e-40cc-a881-1a0c014c1b15",
   "metadata": {},
   "outputs": [],
   "source": [
    "# reload modules before executing user code\n",
    "%load_ext autoreload\n",
    "%autoreload 2"
   ]
  },
  {
   "cell_type": "code",
   "execution_count": 3,
   "id": "ff94b52a-4339-4ee8-93fb-efb44b40a494",
   "metadata": {},
   "outputs": [
    {
     "data": {
      "text/plain": [
       "\u001b[0;31mSignature:\u001b[0m \u001b[0mjoin_string_columns\u001b[0m\u001b[0;34m(\u001b[0m\u001b[0mdf\u001b[0m\u001b[0;34m,\u001b[0m \u001b[0mcolumn\u001b[0m\u001b[0;34m,\u001b[0m \u001b[0mjoin_cols\u001b[0m\u001b[0;34m,\u001b[0m \u001b[0mdelete\u001b[0m\u001b[0;34m=\u001b[0m\u001b[0;32mFalse\u001b[0m\u001b[0;34m,\u001b[0m \u001b[0mdelimiter\u001b[0m\u001b[0;34m=\u001b[0m\u001b[0;34m'|'\u001b[0m\u001b[0;34m)\u001b[0m\u001b[0;34m\u001b[0m\u001b[0;34m\u001b[0m\u001b[0m\n",
       "\u001b[0;31mDocstring:\u001b[0m\n",
       "Join multiple string columns.\n",
       "\n",
       "This function joins multiple text columns using the specified delimiter.\n",
       "Empty strings '' and None will be ignored.\n",
       "\n",
       "Parameters\n",
       "----------\n",
       "df : DataFrame\n",
       "    First number to add.\n",
       "column : str\n",
       "    Name of column with the joined string.\n",
       "join_cols : list\n",
       "    List of column names.\n",
       "delete : bool, default False\n",
       "    If True, delete join_cols, but exclude result column if within the join_cols list.\n",
       "delimiter : str, default '|'\n",
       "    Delimiter used to join columns\n",
       "\n",
       "Returns\n",
       "-------\n",
       "DataFrame\n",
       "    Dataframe with column of the concatenated string.\n",
       "\n",
       "\n",
       "Examples\n",
       "--------\n",
       ">>> df = pd.DataFrame([{'A': 'a', 'B': 'b', 'C': 'c'},\n",
       ">>>                    {'A': 'd', 'B': '', 'C': 'f'}])\n",
       ">>> df2 = df1.copy()\n",
       ">>> df3 = df1.copy()\n",
       ">>> df1\n",
       "   A  B  C\n",
       "0  a  b  c\n",
       "1  d     f\n",
       "\n",
       ">>> df1 = join_string_columns(df1, 'AB', ['A', 'B', 'C'])\n",
       ">>> df1\n",
       "   A  B  C     AB\n",
       "0  a  b  c  a|b|c\n",
       "1  d     f    d|f\n",
       "\n",
       "Delete join_cols after operation.\n",
       ">>> df2 = join_string_columns(df2, 'AB', ['A', 'B', 'C'], delete=True, delimiter=',')\n",
       ">>> df2\n",
       "      AB\n",
       "0  a,b,c\n",
       "1    d,f\n",
       "\n",
       "Reuse an existing column, but delete all other join_cols.\n",
       ">>> df3 = join_string_columns(df3, 'A', ['A', 'B', 'C'], delete=True, delimiter=',')\n",
       ">>> df3\n",
       "       A\n",
       "0  a,b,c\n",
       "1    d,f\n",
       "\u001b[0;31mFile:\u001b[0m      ~/GitRepositories/kg-bio/notebooks/utils.py\n",
       "\u001b[0;31mType:\u001b[0m      function\n"
      ]
     },
     "metadata": {},
     "output_type": "display_data"
    }
   ],
   "source": [
    "join_string_columns?"
   ]
  },
  {
   "cell_type": "code",
   "execution_count": 4,
   "id": "bd02c5c1-cee8-41d5-8239-a97b22480f7e",
   "metadata": {},
   "outputs": [],
   "source": [
    "df1 = pd.DataFrame([{'A': 'a', 'B': 'b', 'C': 'c'},\n",
    "                   {'A': 'd', 'B': '', 'C': 'f'}])\n",
    "df2 = df1.copy()\n",
    "df3 = df1.copy()"
   ]
  },
  {
   "cell_type": "code",
   "execution_count": 5,
   "id": "0f695bab-aa5f-4ce9-8d82-8425e8064fc7",
   "metadata": {},
   "outputs": [
    {
     "data": {
      "text/html": [
       "<div>\n",
       "<style scoped>\n",
       "    .dataframe tbody tr th:only-of-type {\n",
       "        vertical-align: middle;\n",
       "    }\n",
       "\n",
       "    .dataframe tbody tr th {\n",
       "        vertical-align: top;\n",
       "    }\n",
       "\n",
       "    .dataframe thead th {\n",
       "        text-align: right;\n",
       "    }\n",
       "</style>\n",
       "<table border=\"1\" class=\"dataframe\">\n",
       "  <thead>\n",
       "    <tr style=\"text-align: right;\">\n",
       "      <th></th>\n",
       "      <th>A</th>\n",
       "      <th>B</th>\n",
       "      <th>C</th>\n",
       "      <th>AB</th>\n",
       "    </tr>\n",
       "  </thead>\n",
       "  <tbody>\n",
       "    <tr>\n",
       "      <th>0</th>\n",
       "      <td>a</td>\n",
       "      <td>b</td>\n",
       "      <td>c</td>\n",
       "      <td>a|b|c</td>\n",
       "    </tr>\n",
       "    <tr>\n",
       "      <th>1</th>\n",
       "      <td>d</td>\n",
       "      <td></td>\n",
       "      <td>f</td>\n",
       "      <td>d|f</td>\n",
       "    </tr>\n",
       "  </tbody>\n",
       "</table>\n",
       "</div>"
      ],
      "text/plain": [
       "   A  B  C     AB\n",
       "0  a  b  c  a|b|c\n",
       "1  d     f    d|f"
      ]
     },
     "execution_count": 5,
     "metadata": {},
     "output_type": "execute_result"
    }
   ],
   "source": [
    "df1 = join_string_columns(df1, 'AB', ['A', 'B', 'C'])\n",
    "df1"
   ]
  },
  {
   "cell_type": "code",
   "execution_count": 6,
   "id": "db2b48c2-b861-4fb9-b033-6a90e823a3c1",
   "metadata": {},
   "outputs": [
    {
     "data": {
      "text/html": [
       "<div>\n",
       "<style scoped>\n",
       "    .dataframe tbody tr th:only-of-type {\n",
       "        vertical-align: middle;\n",
       "    }\n",
       "\n",
       "    .dataframe tbody tr th {\n",
       "        vertical-align: top;\n",
       "    }\n",
       "\n",
       "    .dataframe thead th {\n",
       "        text-align: right;\n",
       "    }\n",
       "</style>\n",
       "<table border=\"1\" class=\"dataframe\">\n",
       "  <thead>\n",
       "    <tr style=\"text-align: right;\">\n",
       "      <th></th>\n",
       "      <th>AB</th>\n",
       "    </tr>\n",
       "  </thead>\n",
       "  <tbody>\n",
       "    <tr>\n",
       "      <th>0</th>\n",
       "      <td>a,b,c</td>\n",
       "    </tr>\n",
       "    <tr>\n",
       "      <th>1</th>\n",
       "      <td>d,f</td>\n",
       "    </tr>\n",
       "  </tbody>\n",
       "</table>\n",
       "</div>"
      ],
      "text/plain": [
       "      AB\n",
       "0  a,b,c\n",
       "1    d,f"
      ]
     },
     "execution_count": 6,
     "metadata": {},
     "output_type": "execute_result"
    }
   ],
   "source": [
    "df2 = join_string_columns(df2, 'AB', ['A', 'B', 'C'], delete=True, delimiter=',')\n",
    "df2"
   ]
  },
  {
   "cell_type": "code",
   "execution_count": 7,
   "id": "33f86b67-004b-49c3-8c51-8402eaac545b",
   "metadata": {},
   "outputs": [
    {
     "data": {
      "text/html": [
       "<div>\n",
       "<style scoped>\n",
       "    .dataframe tbody tr th:only-of-type {\n",
       "        vertical-align: middle;\n",
       "    }\n",
       "\n",
       "    .dataframe tbody tr th {\n",
       "        vertical-align: top;\n",
       "    }\n",
       "\n",
       "    .dataframe thead th {\n",
       "        text-align: right;\n",
       "    }\n",
       "</style>\n",
       "<table border=\"1\" class=\"dataframe\">\n",
       "  <thead>\n",
       "    <tr style=\"text-align: right;\">\n",
       "      <th></th>\n",
       "      <th>A</th>\n",
       "    </tr>\n",
       "  </thead>\n",
       "  <tbody>\n",
       "    <tr>\n",
       "      <th>0</th>\n",
       "      <td>a,b,c</td>\n",
       "    </tr>\n",
       "    <tr>\n",
       "      <th>1</th>\n",
       "      <td>d,f</td>\n",
       "    </tr>\n",
       "  </tbody>\n",
       "</table>\n",
       "</div>"
      ],
      "text/plain": [
       "       A\n",
       "0  a,b,c\n",
       "1    d,f"
      ]
     },
     "execution_count": 7,
     "metadata": {},
     "output_type": "execute_result"
    }
   ],
   "source": [
    "df3 = join_string_columns(df3, 'A', ['A', 'B', 'C'], delete=True, delimiter=',')\n",
    "df3"
   ]
  }
 ],
 "metadata": {
  "kernelspec": {
   "display_name": "Python 3 (ipykernel)",
   "language": "python",
   "name": "python3"
  },
  "language_info": {
   "codemirror_mode": {
    "name": "ipython",
    "version": 3
   },
   "file_extension": ".py",
   "mimetype": "text/x-python",
   "name": "python",
   "nbconvert_exporter": "python",
   "pygments_lexer": "ipython3",
   "version": "3.7.12"
  }
 },
 "nbformat": 4,
 "nbformat_minor": 5
}

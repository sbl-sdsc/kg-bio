{
 "cells": [
  {
   "cell_type": "markdown",
   "metadata": {},
   "source": [
    "# ChEBI Compound - Prepare\n",
    "Prepares a data frame of ChEBI compounds with InChiKeys.\n",
    "\n",
    "**[Work in progress]**\n",
    "\n",
    "http://ftp.ebi.ac.uk/pub/databases/chebi/README.txt\n",
    "\n",
    "https://ftp.ebi.ac.uk/pub/databases/chebi/SDF/ChEBI_complete.sdf.gz\n",
    "\n",
    "Data source: [ChEBI](https://www.ebi.ac.uk/chebi/)\n",
    "\n",
    "\n",
    "Data source: [ChEMBL](https://www.ebi.ac.uk/chembl/)\n",
    "\n",
    "Author: Peter Rose (pwrose@ucsd.edu)"
   ]
  },
  {
   "cell_type": "code",
   "execution_count": 1,
   "metadata": {},
   "outputs": [],
   "source": [
    "import os\n",
    "import pandas as pd\n",
    "import gzip\n",
    "from datetime import date\n",
    "from utils import assign_curie, join_columns"
   ]
  },
  {
   "cell_type": "code",
   "execution_count": 2,
   "metadata": {},
   "outputs": [],
   "source": [
    "# reload modules before executing user code\n",
    "%load_ext autoreload\n",
    "%autoreload 2"
   ]
  },
  {
   "cell_type": "code",
   "execution_count": 3,
   "metadata": {},
   "outputs": [],
   "source": [
    "pd.options.display.max_rows = None  # display all rows\n",
    "pd.options.display.max_columns = None  # display all columsns\n",
    "pd.set_option('display.max_colwidth', None)"
   ]
  },
  {
   "cell_type": "code",
   "execution_count": 4,
   "metadata": {},
   "outputs": [],
   "source": [
    "# Path will take care of handling operating system differences.\n",
    "NODE_DATA = os.getenv('NODE_DATA', default='../data/nodes/')\n",
    "RELATIONSHIP_DATA = os.getenv('RELATIONSHIP_DATA', default='../data/relationships/')\n",
    "CACHE = os.getenv('KGBIO_CACHE', default='../cache')"
   ]
  },
  {
   "cell_type": "code",
   "execution_count": 5,
   "metadata": {},
   "outputs": [],
   "source": [
    "os.makedirs(os.path.join(CACHE), exist_ok=True)"
   ]
  },
  {
   "cell_type": "code",
   "execution_count": 6,
   "metadata": {},
   "outputs": [
    {
     "name": "stdout",
     "output_type": "stream",
     "text": [
      "Compound_chebi_2022-03-19.parquet\n"
     ]
    }
   ],
   "source": [
    "filename = os.path.join(CACHE, 'ChEBI_complete.sdf.gz')\n",
    "today = date.today().strftime(\"%Y-%m-%d\")\n",
    "node_filename = f'Compound_chebi_{today}.parquet'\n",
    "print(node_filename)"
   ]
  },
  {
   "cell_type": "markdown",
   "metadata": {
    "tags": []
   },
   "source": [
    "### Parse data fields from ChEBI sdf file"
   ]
  },
  {
   "cell_type": "code",
   "execution_count": 7,
   "metadata": {},
   "outputs": [],
   "source": [
    "def parse_chebi_sdf(filename):\n",
    "    \"\"\"Parses compound data from ChEBI\"\"\"\n",
    "\n",
    "    field_names = {'ChEBI ID': 'chebiId', 'Secondary ChEBI ID': 'chebiIds',\n",
    "                   'ChEBI Name': 'name', 'synonyms': 'Synonyms', \n",
    "                   'SMILES': 'smiles', 'InChI': 'inchi', 'InChIKey': 'inchiKey',\n",
    "                   'Formulae': 'formula', 'Mass': 'mass',\n",
    "                   'CAS Registry Numbers': 'casNumber', \n",
    "                   'ChEMBL Database Links': 'chemblId'}\n",
    "    start_data = False\n",
    "    row = dict()\n",
    "    rows = list()\n",
    "\n",
    "    # parse requested fields from the sdf file\n",
    "    with gzip.open(filename, 'rt') as f:\n",
    "        for line in f:\n",
    "            line = line.strip()\n",
    "            if line == '> <ChEBI ID>':\n",
    "                # begin of a new compound record, save data from previous compound\n",
    "                if len(row) > 0:\n",
    "                    rows.append(row)\n",
    "                    row = dict()\n",
    "            if line.startswith('> <'):\n",
    "                # begin of a new data field, get the field name\n",
    "                start_data = True\n",
    "                field_name = line[3:len(line) - 1]\n",
    "            elif len(line) == 0:\n",
    "                # an empty line indicates the end of a data section\n",
    "                start_data = False\n",
    "            elif start_data:\n",
    "                # copy data into a dictionary, if there are multiple data items, create a pipe-separated string\n",
    "                if field_name in field_names:\n",
    "                    std_name = field_names.get(field_name)\n",
    "                    if field_name in row:\n",
    "                        row[std_name] = row.get(std_name) + '|' + line\n",
    "                    else:\n",
    "                        row[std_name] = line\n",
    "\n",
    "    # special case for end of file: append data for last compound\n",
    "    if len(row) > 0:\n",
    "        rows.append(row)\n",
    "        \n",
    "    return rows"
   ]
  },
  {
   "cell_type": "code",
   "execution_count": 8,
   "metadata": {},
   "outputs": [],
   "source": [
    "def rows_to_dataframe(rows):\n",
    "    \"\"\"Converts list of dictionaries to a dataframe an cleans and standardizes the data\"\"\"\n",
    "\n",
    "    compounds = pd.DataFrame(rows)\n",
    "    compounds.fillna('', inplace=True)\n",
    "\n",
    "    # remove compounds without an InChIKey\n",
    "    compounds.query('inchiKey != \"\"', inplace=True)\n",
    "    \n",
    "    # Convert CHEBI:identifier to chebi:identifier to match CURIE (see identifiers.org)\n",
    "    compounds['chebiId'] = compounds['chebiId'].str.lower()\n",
    "    compounds['chebiIds'] = compounds['chebiIds'].str.lower()\n",
    "    \n",
    "    # use \"|\" instead of \",\" as the delimiter for multiple ids\n",
    "    compounds['chebiIds'] = compounds['chebiIds'].str.replace(',', '|')\n",
    "    \n",
    "    # assign CURIE (see identifiers.org)\n",
    "    compounds['id'] =  compounds['inchiKey'].apply(lambda row: assign_curie(row, 'inchikey'))\n",
    "    compounds['chemblId'] = compounds['chemblId'].apply(lambda row: assign_curie(row, 'chembl'))\n",
    "    compounds['casNumber'] = compounds['casNumber'].apply(lambda row: assign_curie(row, 'cas'))\n",
    "                                                   \n",
    "    # concatenate all ids into a \"|\"-separated string\n",
    "    #compounds['ids'] = compounds.apply(lambda row: join_columns(row, ['chebiId', 'chebiIds', 'casNumber', 'id']), axis=1)\n",
    "    compounds['ids'] = compounds[['chebiId', 'chebiIds', 'casNumber', 'id']].apply(lambda ids: '|'.join(filter(None, ids)), axis=1)\n",
    "                                                                  \n",
    "    compounds.drop(columns=['chebiId', 'chebiIds', 'chemblId','casNumber'], inplace=True)\n",
    "\n",
    "    return compounds"
   ]
  },
  {
   "cell_type": "code",
   "execution_count": 9,
   "metadata": {},
   "outputs": [],
   "source": [
    "rows = parse_chebi_sdf(filename)\n",
    "nodes = rows_to_dataframe(rows)"
   ]
  },
  {
   "cell_type": "code",
   "execution_count": 10,
   "metadata": {},
   "outputs": [
    {
     "data": {
      "text/html": [
       "<div>\n",
       "<style scoped>\n",
       "    .dataframe tbody tr th:only-of-type {\n",
       "        vertical-align: middle;\n",
       "    }\n",
       "\n",
       "    .dataframe tbody tr th {\n",
       "        vertical-align: top;\n",
       "    }\n",
       "\n",
       "    .dataframe thead th {\n",
       "        text-align: right;\n",
       "    }\n",
       "</style>\n",
       "<table border=\"1\" class=\"dataframe\">\n",
       "  <thead>\n",
       "    <tr style=\"text-align: right;\">\n",
       "      <th></th>\n",
       "      <th>name</th>\n",
       "      <th>inchi</th>\n",
       "      <th>inchiKey</th>\n",
       "      <th>smiles</th>\n",
       "      <th>formula</th>\n",
       "      <th>mass</th>\n",
       "      <th>id</th>\n",
       "      <th>ids</th>\n",
       "    </tr>\n",
       "  </thead>\n",
       "  <tbody>\n",
       "    <tr>\n",
       "      <th>0</th>\n",
       "      <td>(-)-epicatechin</td>\n",
       "      <td>InChI=1S/C15H14O6/c16-8-4-11(18)9-6-13(20)15(21-14(9)5-8)7-1-2-10(17)12(19)3-7/h1-5,13,15-20H,6H2/t13-,15-/m1/s1</td>\n",
       "      <td>PFTAWBLQPZVEMU-UKRRQHHQSA-N</td>\n",
       "      <td>[H][C@@]1(Oc2cc(O)cc(O)c2C[C@H]1O)c1ccc(O)c(O)c1</td>\n",
       "      <td>C15H14O6</td>\n",
       "      <td>290.26810</td>\n",
       "      <td>inchikey:PFTAWBLQPZVEMU-UKRRQHHQSA-N</td>\n",
       "      <td>chebi:90|chebi:18484|cas:490-46-0|inchikey:PFTAWBLQPZVEMU-UKRRQHHQSA-N</td>\n",
       "    </tr>\n",
       "    <tr>\n",
       "      <th>1</th>\n",
       "      <td>(1S,4R)-fenchone</td>\n",
       "      <td>InChI=1S/C10H16O/c1-9(2)7-4-5-10(3,6-7)8(9)11/h7H,4-6H2,1-3H3/t7-,10+/m1/s1</td>\n",
       "      <td>LHXDLQBQYFFVNW-XCBNKYQSSA-N</td>\n",
       "      <td>CC1(C)[C@@H]2CC[C@@](C)(C2)C1=O</td>\n",
       "      <td>C10H16O</td>\n",
       "      <td>152.23340</td>\n",
       "      <td>inchikey:LHXDLQBQYFFVNW-XCBNKYQSSA-N</td>\n",
       "      <td>chebi:165|chebi:63901|cas:4695-62-9|inchikey:LHXDLQBQYFFVNW-XCBNKYQSSA-N</td>\n",
       "    </tr>\n",
       "    <tr>\n",
       "      <th>3</th>\n",
       "      <td>16alpha-hydroxyestrone</td>\n",
       "      <td>InChI=1S/C18H22O3/c1-18-7-6-13-12-5-3-11(19)8-10(12)2-4-14(13)15(18)9-16(20)17(18)21/h3,5,8,13-16,19-20H,2,4,6-7,9H2,1H3/t13-,14-,15+,16-,18+/m1/s1</td>\n",
       "      <td>WPOCIZJTELRQMF-QFXBJFAPSA-N</td>\n",
       "      <td>[H][C@@]12C[C@@H](O)C(=O)[C@@]1(C)CC[C@]1([H])C3=C(CC[C@@]21[H])C=C(O)C=C3</td>\n",
       "      <td>C18H22O3</td>\n",
       "      <td>286.371</td>\n",
       "      <td>inchikey:WPOCIZJTELRQMF-QFXBJFAPSA-N</td>\n",
       "      <td>chebi:776|chebi:60497|cas:566-76-7|inchikey:WPOCIZJTELRQMF-QFXBJFAPSA-N</td>\n",
       "    </tr>\n",
       "    <tr>\n",
       "      <th>4</th>\n",
       "      <td>2,6-dichlorobenzonitrile</td>\n",
       "      <td>InChI=1S/C7H3Cl2N/c8-6-2-1-3-7(9)5(6)4-10/h1-3H</td>\n",
       "      <td>YOYAIZYFCNQIRF-UHFFFAOYSA-N</td>\n",
       "      <td>Clc1cccc(Cl)c1C#N</td>\n",
       "      <td>C7H3Cl2N</td>\n",
       "      <td>172.01086</td>\n",
       "      <td>inchikey:YOYAIZYFCNQIRF-UHFFFAOYSA-N</td>\n",
       "      <td>chebi:943|chebi:73174|cas:1194-65-6|inchikey:YOYAIZYFCNQIRF-UHFFFAOYSA-N</td>\n",
       "    </tr>\n",
       "    <tr>\n",
       "      <th>5</th>\n",
       "      <td>2-hydroxybutyric acid</td>\n",
       "      <td>InChI=1S/C4H8O3/c1-2-3(5)4(6)7/h3,5H,2H2,1H3,(H,6,7)</td>\n",
       "      <td>AFENDNXGAFYKQO-UHFFFAOYSA-N</td>\n",
       "      <td>CCC(O)C(O)=O</td>\n",
       "      <td>C4H8O3</td>\n",
       "      <td>104.10450</td>\n",
       "      <td>inchikey:AFENDNXGAFYKQO-UHFFFAOYSA-N</td>\n",
       "      <td>chebi:1148|chebi:675746|cas:600-15-7|inchikey:AFENDNXGAFYKQO-UHFFFAOYSA-N</td>\n",
       "    </tr>\n",
       "  </tbody>\n",
       "</table>\n",
       "</div>"
      ],
      "text/plain": [
       "                       name  \\\n",
       "0           (-)-epicatechin   \n",
       "1          (1S,4R)-fenchone   \n",
       "3    16alpha-hydroxyestrone   \n",
       "4  2,6-dichlorobenzonitrile   \n",
       "5     2-hydroxybutyric acid   \n",
       "\n",
       "                                                                                                                                                 inchi  \\\n",
       "0                                     InChI=1S/C15H14O6/c16-8-4-11(18)9-6-13(20)15(21-14(9)5-8)7-1-2-10(17)12(19)3-7/h1-5,13,15-20H,6H2/t13-,15-/m1/s1   \n",
       "1                                                                          InChI=1S/C10H16O/c1-9(2)7-4-5-10(3,6-7)8(9)11/h7H,4-6H2,1-3H3/t7-,10+/m1/s1   \n",
       "3  InChI=1S/C18H22O3/c1-18-7-6-13-12-5-3-11(19)8-10(12)2-4-14(13)15(18)9-16(20)17(18)21/h3,5,8,13-16,19-20H,2,4,6-7,9H2,1H3/t13-,14-,15+,16-,18+/m1/s1   \n",
       "4                                                                                                      InChI=1S/C7H3Cl2N/c8-6-2-1-3-7(9)5(6)4-10/h1-3H   \n",
       "5                                                                                                 InChI=1S/C4H8O3/c1-2-3(5)4(6)7/h3,5H,2H2,1H3,(H,6,7)   \n",
       "\n",
       "                      inchiKey  \\\n",
       "0  PFTAWBLQPZVEMU-UKRRQHHQSA-N   \n",
       "1  LHXDLQBQYFFVNW-XCBNKYQSSA-N   \n",
       "3  WPOCIZJTELRQMF-QFXBJFAPSA-N   \n",
       "4  YOYAIZYFCNQIRF-UHFFFAOYSA-N   \n",
       "5  AFENDNXGAFYKQO-UHFFFAOYSA-N   \n",
       "\n",
       "                                                                       smiles  \\\n",
       "0                            [H][C@@]1(Oc2cc(O)cc(O)c2C[C@H]1O)c1ccc(O)c(O)c1   \n",
       "1                                             CC1(C)[C@@H]2CC[C@@](C)(C2)C1=O   \n",
       "3  [H][C@@]12C[C@@H](O)C(=O)[C@@]1(C)CC[C@]1([H])C3=C(CC[C@@]21[H])C=C(O)C=C3   \n",
       "4                                                           Clc1cccc(Cl)c1C#N   \n",
       "5                                                                CCC(O)C(O)=O   \n",
       "\n",
       "    formula       mass                                    id  \\\n",
       "0  C15H14O6  290.26810  inchikey:PFTAWBLQPZVEMU-UKRRQHHQSA-N   \n",
       "1   C10H16O  152.23340  inchikey:LHXDLQBQYFFVNW-XCBNKYQSSA-N   \n",
       "3  C18H22O3    286.371  inchikey:WPOCIZJTELRQMF-QFXBJFAPSA-N   \n",
       "4  C7H3Cl2N  172.01086  inchikey:YOYAIZYFCNQIRF-UHFFFAOYSA-N   \n",
       "5    C4H8O3  104.10450  inchikey:AFENDNXGAFYKQO-UHFFFAOYSA-N   \n",
       "\n",
       "                                                                         ids  \n",
       "0     chebi:90|chebi:18484|cas:490-46-0|inchikey:PFTAWBLQPZVEMU-UKRRQHHQSA-N  \n",
       "1   chebi:165|chebi:63901|cas:4695-62-9|inchikey:LHXDLQBQYFFVNW-XCBNKYQSSA-N  \n",
       "3    chebi:776|chebi:60497|cas:566-76-7|inchikey:WPOCIZJTELRQMF-QFXBJFAPSA-N  \n",
       "4   chebi:943|chebi:73174|cas:1194-65-6|inchikey:YOYAIZYFCNQIRF-UHFFFAOYSA-N  \n",
       "5  chebi:1148|chebi:675746|cas:600-15-7|inchikey:AFENDNXGAFYKQO-UHFFFAOYSA-N  "
      ]
     },
     "execution_count": 10,
     "metadata": {},
     "output_type": "execute_result"
    }
   ],
   "source": [
    "nodes.head()"
   ]
  },
  {
   "cell_type": "markdown",
   "metadata": {},
   "source": [
    "## Setup Output Directories"
   ]
  },
  {
   "cell_type": "code",
   "execution_count": 11,
   "metadata": {},
   "outputs": [],
   "source": [
    "NODE_DATA = os.getenv('NODE_DATA', default='../data/nodes/')\n",
    "RELATIONSHIP_DATA = os.getenv('RELATIONSHIP_DATA', default='../data/relationships/')"
   ]
  },
  {
   "cell_type": "code",
   "execution_count": 12,
   "metadata": {},
   "outputs": [],
   "source": [
    "os.makedirs(os.path.join(NODE_DATA), exist_ok=True)\n",
    "os.makedirs(os.path.join(RELATIONSHIP_DATA), exist_ok=True)"
   ]
  },
  {
   "cell_type": "code",
   "execution_count": 13,
   "metadata": {},
   "outputs": [
    {
     "name": "stdout",
     "output_type": "stream",
     "text": [
      "Number of nodes 136652\n"
     ]
    }
   ],
   "source": [
    "print('Number of nodes', nodes.shape[0])"
   ]
  },
  {
   "cell_type": "code",
   "execution_count": 14,
   "metadata": {},
   "outputs": [],
   "source": [
    "nodes[['id', 'name', 'ids', 'inchiKey', 'inchi', 'smiles', 'formula', 'mass']].to_parquet(os.path.join(NODE_DATA, node_filename), index=False)"
   ]
  }
 ],
 "metadata": {
  "kernelspec": {
   "display_name": "Python 3 (ipykernel)",
   "language": "python",
   "name": "python3"
  },
  "language_info": {
   "codemirror_mode": {
    "name": "ipython",
    "version": 3
   },
   "file_extension": ".py",
   "mimetype": "text/x-python",
   "name": "python",
   "nbconvert_exporter": "python",
   "pygments_lexer": "ipython3",
   "version": "3.7.12"
  }
 },
 "nbformat": 4,
 "nbformat_minor": 4
}

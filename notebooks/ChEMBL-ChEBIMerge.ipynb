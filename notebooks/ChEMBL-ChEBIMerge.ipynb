{
 "cells": [
  {
   "cell_type": "markdown",
   "metadata": {},
   "source": [
    "# ChEMBL Compound - Prepare\n",
    "**[Work in progress]**\n",
    "\n",
    "https://ftp.ebi.ac.uk/pub/databases/chembl/ChEMBLdb/latest/README\n",
    "\n",
    "Smiles, InChI, InChIKey\n",
    "https://ftp.ebi.ac.uk/pub/databases/chembl/ChEMBLdb/latest/chembl_30_chemreps.txt.gz\n",
    "\n",
    "\n",
    "Data source: [ChEMBL](https://www.ebi.ac.uk/chembl/)\n",
    "\n",
    "Author: Peter Rose (pwrose@ucsd.edu)"
   ]
  },
  {
   "cell_type": "code",
   "execution_count": 1,
   "metadata": {},
   "outputs": [],
   "source": [
    "import os\n",
    "import pandas as pd\n",
    "from utils import join_string_columns, backfill"
   ]
  },
  {
   "cell_type": "code",
   "execution_count": 2,
   "metadata": {},
   "outputs": [],
   "source": [
    "# reload modules before executing user code\n",
    "%load_ext autoreload\n",
    "%autoreload 2"
   ]
  },
  {
   "cell_type": "code",
   "execution_count": 3,
   "metadata": {},
   "outputs": [],
   "source": [
    "pd.options.display.max_rows = None  # display all rows\n",
    "pd.options.display.max_columns = None  # display all columsns\n",
    "pd.set_option('display.max_colwidth', None) # don't truncate cells"
   ]
  },
  {
   "cell_type": "code",
   "execution_count": 4,
   "metadata": {},
   "outputs": [],
   "source": [
    "# Path will take care of handling operating system differences.\n",
    "NODE_DATA = os.getenv('NODE_DATA', default='../data/nodes/')\n",
    "RELATIONSHIP_DATA = os.getenv('RELATIONSHIP_DATA', default='../data/relationships/')\n",
    "CACHE = os.getenv('KGBIO_CACHE', default='../cache')"
   ]
  },
  {
   "cell_type": "code",
   "execution_count": 5,
   "metadata": {},
   "outputs": [],
   "source": [
    "os.makedirs(os.path.join(CACHE), exist_ok=True)"
   ]
  },
  {
   "cell_type": "code",
   "execution_count": 6,
   "metadata": {},
   "outputs": [
    {
     "name": "stdout",
     "output_type": "stream",
     "text": [
      "Compound_chembl_30_2022-03-17.csv\n"
     ]
    }
   ],
   "source": [
    "chembl_node_filename = 'Compound_chembl_30_2022-03-17.csv'\n",
    "chebi_node_filename = 'Compound_chebi_2022-03-17.parquet'\n",
    "version = 30\n",
    "today = '2022-03-17'\n",
    "node_filename = f'Compound_chembl_{version}_{today}.csv'\n",
    "print(node_filename)"
   ]
  },
  {
   "cell_type": "markdown",
   "metadata": {
    "tags": []
   },
   "source": [
    "### Import NCBI Taxonomy Names"
   ]
  },
  {
   "cell_type": "code",
   "execution_count": 7,
   "metadata": {},
   "outputs": [
    {
     "name": "stdout",
     "output_type": "stream",
     "text": [
      "Number of ChEMBL nodes: 2282427\n"
     ]
    },
    {
     "data": {
      "text/html": [
       "<div>\n",
       "<style scoped>\n",
       "    .dataframe tbody tr th:only-of-type {\n",
       "        vertical-align: middle;\n",
       "    }\n",
       "\n",
       "    .dataframe tbody tr th {\n",
       "        vertical-align: top;\n",
       "    }\n",
       "\n",
       "    .dataframe thead th {\n",
       "        text-align: right;\n",
       "    }\n",
       "</style>\n",
       "<table border=\"1\" class=\"dataframe\">\n",
       "  <thead>\n",
       "    <tr style=\"text-align: right;\">\n",
       "      <th></th>\n",
       "      <th>id</th>\n",
       "      <th>name</th>\n",
       "      <th>ids</th>\n",
       "      <th>inchiKey</th>\n",
       "      <th>inchi</th>\n",
       "      <th>smiles</th>\n",
       "      <th>formula</th>\n",
       "      <th>mass</th>\n",
       "    </tr>\n",
       "  </thead>\n",
       "  <tbody>\n",
       "    <tr>\n",
       "      <th>0</th>\n",
       "      <td>inchikey:PFTAWBLQPZVEMU-UKRRQHHQSA-N</td>\n",
       "      <td>(-)-epicatechin</td>\n",
       "      <td>chebi:90|chebi:18484|cas:490-46-0|inchikey:PFTAWBLQPZVEMU-UKRRQHHQSA-N|chebi:90|chebi:18484|cas:490-46-0|inchikey:PFTAWBLQPZVEMU-UKRRQHHQSA-N|chebi:90|chebi:18484|cas:490-46-0|inchikey:PFTAWBLQPZVEMU-UKRRQHHQSA-N|chebi:90|chebi:18484|cas:490-46-0|inchikey:PFTAWBLQPZVEMU-UKRRQHHQSA-N|chebi:90|chebi:18484|cas:490-46-0|inchikey:PFTAWBLQPZVEMU-UKRRQHHQSA-N|chembl:CHEMBL583912</td>\n",
       "      <td>PFTAWBLQPZVEMU-UKRRQHHQSA-N</td>\n",
       "      <td>InChI=1S/C15H14O6/c16-8-4-11(18)9-6-13(20)15(21-14(9)5-8)7-1-2-10(17)12(19)3-7/h1-5,13,15-20H,6H2/t13-,15-/m1/s1</td>\n",
       "      <td>[H][C@@]1(Oc2cc(O)cc(O)c2C[C@H]1O)c1ccc(O)c(O)c1</td>\n",
       "      <td>C15H14O6</td>\n",
       "      <td>290.26810</td>\n",
       "    </tr>\n",
       "    <tr>\n",
       "      <th>1</th>\n",
       "      <td>inchikey:LHXDLQBQYFFVNW-XCBNKYQSSA-N</td>\n",
       "      <td>(1S,4R)-fenchone</td>\n",
       "      <td>chebi:165|chebi:63901|cas:4695-62-9|inchikey:LHXDLQBQYFFVNW-XCBNKYQSSA-N|chebi:165|chebi:63901|cas:4695-62-9|inchikey:LHXDLQBQYFFVNW-XCBNKYQSSA-N|chebi:165|chebi:63901|cas:4695-62-9|inchikey:LHXDLQBQYFFVNW-XCBNKYQSSA-N|chebi:165|chebi:63901|cas:4695-62-9|inchikey:LHXDLQBQYFFVNW-XCBNKYQSSA-N|chebi:165|chebi:63901|cas:4695-62-9|inchikey:LHXDLQBQYFFVNW-XCBNKYQSSA-N</td>\n",
       "      <td>LHXDLQBQYFFVNW-XCBNKYQSSA-N</td>\n",
       "      <td>InChI=1S/C10H16O/c1-9(2)7-4-5-10(3,6-7)8(9)11/h7H,4-6H2,1-3H3/t7-,10+/m1/s1</td>\n",
       "      <td>CC1(C)[C@@H]2CC[C@@](C)(C2)C1=O</td>\n",
       "      <td>C10H16O</td>\n",
       "      <td>152.23340</td>\n",
       "    </tr>\n",
       "  </tbody>\n",
       "</table>\n",
       "</div>"
      ],
      "text/plain": [
       "                                     id              name  \\\n",
       "0  inchikey:PFTAWBLQPZVEMU-UKRRQHHQSA-N   (-)-epicatechin   \n",
       "1  inchikey:LHXDLQBQYFFVNW-XCBNKYQSSA-N  (1S,4R)-fenchone   \n",
       "\n",
       "                                                                                                                                                                                                                                                                                                                                                                                      ids  \\\n",
       "0  chebi:90|chebi:18484|cas:490-46-0|inchikey:PFTAWBLQPZVEMU-UKRRQHHQSA-N|chebi:90|chebi:18484|cas:490-46-0|inchikey:PFTAWBLQPZVEMU-UKRRQHHQSA-N|chebi:90|chebi:18484|cas:490-46-0|inchikey:PFTAWBLQPZVEMU-UKRRQHHQSA-N|chebi:90|chebi:18484|cas:490-46-0|inchikey:PFTAWBLQPZVEMU-UKRRQHHQSA-N|chebi:90|chebi:18484|cas:490-46-0|inchikey:PFTAWBLQPZVEMU-UKRRQHHQSA-N|chembl:CHEMBL583912   \n",
       "1            chebi:165|chebi:63901|cas:4695-62-9|inchikey:LHXDLQBQYFFVNW-XCBNKYQSSA-N|chebi:165|chebi:63901|cas:4695-62-9|inchikey:LHXDLQBQYFFVNW-XCBNKYQSSA-N|chebi:165|chebi:63901|cas:4695-62-9|inchikey:LHXDLQBQYFFVNW-XCBNKYQSSA-N|chebi:165|chebi:63901|cas:4695-62-9|inchikey:LHXDLQBQYFFVNW-XCBNKYQSSA-N|chebi:165|chebi:63901|cas:4695-62-9|inchikey:LHXDLQBQYFFVNW-XCBNKYQSSA-N   \n",
       "\n",
       "                      inchiKey  \\\n",
       "0  PFTAWBLQPZVEMU-UKRRQHHQSA-N   \n",
       "1  LHXDLQBQYFFVNW-XCBNKYQSSA-N   \n",
       "\n",
       "                                                                                                              inchi  \\\n",
       "0  InChI=1S/C15H14O6/c16-8-4-11(18)9-6-13(20)15(21-14(9)5-8)7-1-2-10(17)12(19)3-7/h1-5,13,15-20H,6H2/t13-,15-/m1/s1   \n",
       "1                                       InChI=1S/C10H16O/c1-9(2)7-4-5-10(3,6-7)8(9)11/h7H,4-6H2,1-3H3/t7-,10+/m1/s1   \n",
       "\n",
       "                                             smiles   formula       mass  \n",
       "0  [H][C@@]1(Oc2cc(O)cc(O)c2C[C@H]1O)c1ccc(O)c(O)c1  C15H14O6  290.26810  \n",
       "1                   CC1(C)[C@@H]2CC[C@@](C)(C2)C1=O   C10H16O  152.23340  "
      ]
     },
     "execution_count": 7,
     "metadata": {},
     "output_type": "execute_result"
    }
   ],
   "source": [
    "chembl = pd.read_parquet(os.path.join(NODE_DATA, chembl_node_filename))\n",
    "print('Number of ChEMBL nodes:', chembl.shape[0])\n",
    "chembl.head(2)"
   ]
  },
  {
   "cell_type": "code",
   "execution_count": 8,
   "metadata": {},
   "outputs": [
    {
     "name": "stdout",
     "output_type": "stream",
     "text": [
      "Number of ChEBI nodes: 136652\n"
     ]
    },
    {
     "data": {
      "text/html": [
       "<div>\n",
       "<style scoped>\n",
       "    .dataframe tbody tr th:only-of-type {\n",
       "        vertical-align: middle;\n",
       "    }\n",
       "\n",
       "    .dataframe tbody tr th {\n",
       "        vertical-align: top;\n",
       "    }\n",
       "\n",
       "    .dataframe thead th {\n",
       "        text-align: right;\n",
       "    }\n",
       "</style>\n",
       "<table border=\"1\" class=\"dataframe\">\n",
       "  <thead>\n",
       "    <tr style=\"text-align: right;\">\n",
       "      <th></th>\n",
       "      <th>id</th>\n",
       "      <th>name</th>\n",
       "      <th>ids</th>\n",
       "      <th>inchiKey</th>\n",
       "      <th>inchi</th>\n",
       "      <th>smiles</th>\n",
       "      <th>formula</th>\n",
       "      <th>mass</th>\n",
       "    </tr>\n",
       "  </thead>\n",
       "  <tbody>\n",
       "    <tr>\n",
       "      <th>0</th>\n",
       "      <td>inchikey:PFTAWBLQPZVEMU-UKRRQHHQSA-N</td>\n",
       "      <td>(-)-epicatechin</td>\n",
       "      <td>chebi:90|chebi:18484|cas:490-46-0|inchikey:PFTAWBLQPZVEMU-UKRRQHHQSA-N</td>\n",
       "      <td>PFTAWBLQPZVEMU-UKRRQHHQSA-N</td>\n",
       "      <td>InChI=1S/C15H14O6/c16-8-4-11(18)9-6-13(20)15(21-14(9)5-8)7-1-2-10(17)12(19)3-7/h1-5,13,15-20H,6H2/t13-,15-/m1/s1</td>\n",
       "      <td>[H][C@@]1(Oc2cc(O)cc(O)c2C[C@H]1O)c1ccc(O)c(O)c1</td>\n",
       "      <td>C15H14O6</td>\n",
       "      <td>290.26810</td>\n",
       "    </tr>\n",
       "    <tr>\n",
       "      <th>1</th>\n",
       "      <td>inchikey:LHXDLQBQYFFVNW-XCBNKYQSSA-N</td>\n",
       "      <td>(1S,4R)-fenchone</td>\n",
       "      <td>chebi:165|chebi:63901|cas:4695-62-9|inchikey:LHXDLQBQYFFVNW-XCBNKYQSSA-N</td>\n",
       "      <td>LHXDLQBQYFFVNW-XCBNKYQSSA-N</td>\n",
       "      <td>InChI=1S/C10H16O/c1-9(2)7-4-5-10(3,6-7)8(9)11/h7H,4-6H2,1-3H3/t7-,10+/m1/s1</td>\n",
       "      <td>CC1(C)[C@@H]2CC[C@@](C)(C2)C1=O</td>\n",
       "      <td>C10H16O</td>\n",
       "      <td>152.23340</td>\n",
       "    </tr>\n",
       "  </tbody>\n",
       "</table>\n",
       "</div>"
      ],
      "text/plain": [
       "                                     id              name  \\\n",
       "0  inchikey:PFTAWBLQPZVEMU-UKRRQHHQSA-N   (-)-epicatechin   \n",
       "1  inchikey:LHXDLQBQYFFVNW-XCBNKYQSSA-N  (1S,4R)-fenchone   \n",
       "\n",
       "                                                                        ids  \\\n",
       "0    chebi:90|chebi:18484|cas:490-46-0|inchikey:PFTAWBLQPZVEMU-UKRRQHHQSA-N   \n",
       "1  chebi:165|chebi:63901|cas:4695-62-9|inchikey:LHXDLQBQYFFVNW-XCBNKYQSSA-N   \n",
       "\n",
       "                      inchiKey  \\\n",
       "0  PFTAWBLQPZVEMU-UKRRQHHQSA-N   \n",
       "1  LHXDLQBQYFFVNW-XCBNKYQSSA-N   \n",
       "\n",
       "                                                                                                              inchi  \\\n",
       "0  InChI=1S/C15H14O6/c16-8-4-11(18)9-6-13(20)15(21-14(9)5-8)7-1-2-10(17)12(19)3-7/h1-5,13,15-20H,6H2/t13-,15-/m1/s1   \n",
       "1                                       InChI=1S/C10H16O/c1-9(2)7-4-5-10(3,6-7)8(9)11/h7H,4-6H2,1-3H3/t7-,10+/m1/s1   \n",
       "\n",
       "                                             smiles   formula       mass  \n",
       "0  [H][C@@]1(Oc2cc(O)cc(O)c2C[C@H]1O)c1ccc(O)c(O)c1  C15H14O6  290.26810  \n",
       "1                   CC1(C)[C@@H]2CC[C@@](C)(C2)C1=O   C10H16O  152.23340  "
      ]
     },
     "execution_count": 8,
     "metadata": {},
     "output_type": "execute_result"
    }
   ],
   "source": [
    "chebi = pd.read_parquet(os.path.join(NODE_DATA, chebi_node_filename))\n",
    "print('Number of ChEBI nodes:', chebi.shape[0])\n",
    "chebi.head(2)"
   ]
  },
  {
   "cell_type": "code",
   "execution_count": 9,
   "metadata": {},
   "outputs": [],
   "source": [
    "left, right = chebi.align(chembl, join=\"outer\", fill_value='', axis=1)"
   ]
  },
  {
   "cell_type": "code",
   "execution_count": 10,
   "metadata": {},
   "outputs": [
    {
     "name": "stdout",
     "output_type": "stream",
     "text": [
      "ChEBI nodes with InChIKey: 136652\n",
      "ChEBI nodes without InChIKey   : 0\n"
     ]
    }
   ],
   "source": [
    "print('ChEBI nodes with InChIKey:', chebi.query('inchiKey != \"\"').shape[0])\n",
    "print('ChEBI nodes without InChIKey   :', chebi.query('inchiKey == \"\"').shape[0])"
   ]
  },
  {
   "cell_type": "code",
   "execution_count": 11,
   "metadata": {},
   "outputs": [],
   "source": [
    "nodes = left.merge(right, on='id', how='outer')"
   ]
  },
  {
   "cell_type": "code",
   "execution_count": 12,
   "metadata": {},
   "outputs": [
    {
     "name": "stdout",
     "output_type": "stream",
     "text": [
      "Number of nodes: 2380115\n"
     ]
    }
   ],
   "source": [
    "print('Number of nodes:', nodes.shape[0])"
   ]
  },
  {
   "cell_type": "code",
   "execution_count": 13,
   "metadata": {},
   "outputs": [
    {
     "data": {
      "text/html": [
       "<div>\n",
       "<style scoped>\n",
       "    .dataframe tbody tr th:only-of-type {\n",
       "        vertical-align: middle;\n",
       "    }\n",
       "\n",
       "    .dataframe tbody tr th {\n",
       "        vertical-align: top;\n",
       "    }\n",
       "\n",
       "    .dataframe thead th {\n",
       "        text-align: right;\n",
       "    }\n",
       "</style>\n",
       "<table border=\"1\" class=\"dataframe\">\n",
       "  <thead>\n",
       "    <tr style=\"text-align: right;\">\n",
       "      <th></th>\n",
       "      <th>id</th>\n",
       "      <th>name_x</th>\n",
       "      <th>ids_x</th>\n",
       "      <th>inchiKey_x</th>\n",
       "      <th>inchi_x</th>\n",
       "      <th>smiles_x</th>\n",
       "      <th>formula_x</th>\n",
       "      <th>mass_x</th>\n",
       "      <th>name_y</th>\n",
       "      <th>ids_y</th>\n",
       "      <th>inchiKey_y</th>\n",
       "      <th>inchi_y</th>\n",
       "      <th>smiles_y</th>\n",
       "      <th>formula_y</th>\n",
       "      <th>mass_y</th>\n",
       "    </tr>\n",
       "  </thead>\n",
       "  <tbody>\n",
       "    <tr>\n",
       "      <th>0</th>\n",
       "      <td>inchikey:PFTAWBLQPZVEMU-UKRRQHHQSA-N</td>\n",
       "      <td>(-)-epicatechin</td>\n",
       "      <td>chebi:90|chebi:18484|cas:490-46-0|inchikey:PFTAWBLQPZVEMU-UKRRQHHQSA-N</td>\n",
       "      <td>PFTAWBLQPZVEMU-UKRRQHHQSA-N</td>\n",
       "      <td>InChI=1S/C15H14O6/c16-8-4-11(18)9-6-13(20)15(21-14(9)5-8)7-1-2-10(17)12(19)3-7/h1-5,13,15-20H,6H2/t13-,15-/m1/s1</td>\n",
       "      <td>[H][C@@]1(Oc2cc(O)cc(O)c2C[C@H]1O)c1ccc(O)c(O)c1</td>\n",
       "      <td>C15H14O6</td>\n",
       "      <td>290.26810</td>\n",
       "      <td>(-)-epicatechin</td>\n",
       "      <td>chebi:90|chebi:18484|cas:490-46-0|inchikey:PFTAWBLQPZVEMU-UKRRQHHQSA-N|chebi:90|chebi:18484|cas:490-46-0|inchikey:PFTAWBLQPZVEMU-UKRRQHHQSA-N|chebi:90|chebi:18484|cas:490-46-0|inchikey:PFTAWBLQPZVEMU-UKRRQHHQSA-N|chebi:90|chebi:18484|cas:490-46-0|inchikey:PFTAWBLQPZVEMU-UKRRQHHQSA-N|chebi:90|chebi:18484|cas:490-46-0|inchikey:PFTAWBLQPZVEMU-UKRRQHHQSA-N|chembl:CHEMBL583912</td>\n",
       "      <td>PFTAWBLQPZVEMU-UKRRQHHQSA-N</td>\n",
       "      <td>InChI=1S/C15H14O6/c16-8-4-11(18)9-6-13(20)15(21-14(9)5-8)7-1-2-10(17)12(19)3-7/h1-5,13,15-20H,6H2/t13-,15-/m1/s1</td>\n",
       "      <td>[H][C@@]1(Oc2cc(O)cc(O)c2C[C@H]1O)c1ccc(O)c(O)c1</td>\n",
       "      <td>C15H14O6</td>\n",
       "      <td>290.26810</td>\n",
       "    </tr>\n",
       "    <tr>\n",
       "      <th>1</th>\n",
       "      <td>inchikey:LHXDLQBQYFFVNW-XCBNKYQSSA-N</td>\n",
       "      <td>(1S,4R)-fenchone</td>\n",
       "      <td>chebi:165|chebi:63901|cas:4695-62-9|inchikey:LHXDLQBQYFFVNW-XCBNKYQSSA-N</td>\n",
       "      <td>LHXDLQBQYFFVNW-XCBNKYQSSA-N</td>\n",
       "      <td>InChI=1S/C10H16O/c1-9(2)7-4-5-10(3,6-7)8(9)11/h7H,4-6H2,1-3H3/t7-,10+/m1/s1</td>\n",
       "      <td>CC1(C)[C@@H]2CC[C@@](C)(C2)C1=O</td>\n",
       "      <td>C10H16O</td>\n",
       "      <td>152.23340</td>\n",
       "      <td>(1S,4R)-fenchone</td>\n",
       "      <td>chebi:165|chebi:63901|cas:4695-62-9|inchikey:LHXDLQBQYFFVNW-XCBNKYQSSA-N|chebi:165|chebi:63901|cas:4695-62-9|inchikey:LHXDLQBQYFFVNW-XCBNKYQSSA-N|chebi:165|chebi:63901|cas:4695-62-9|inchikey:LHXDLQBQYFFVNW-XCBNKYQSSA-N|chebi:165|chebi:63901|cas:4695-62-9|inchikey:LHXDLQBQYFFVNW-XCBNKYQSSA-N|chebi:165|chebi:63901|cas:4695-62-9|inchikey:LHXDLQBQYFFVNW-XCBNKYQSSA-N</td>\n",
       "      <td>LHXDLQBQYFFVNW-XCBNKYQSSA-N</td>\n",
       "      <td>InChI=1S/C10H16O/c1-9(2)7-4-5-10(3,6-7)8(9)11/h7H,4-6H2,1-3H3/t7-,10+/m1/s1</td>\n",
       "      <td>CC1(C)[C@@H]2CC[C@@](C)(C2)C1=O</td>\n",
       "      <td>C10H16O</td>\n",
       "      <td>152.23340</td>\n",
       "    </tr>\n",
       "    <tr>\n",
       "      <th>2</th>\n",
       "      <td>inchikey:WPOCIZJTELRQMF-QFXBJFAPSA-N</td>\n",
       "      <td>16alpha-hydroxyestrone</td>\n",
       "      <td>chebi:776|chebi:60497|cas:566-76-7|inchikey:WPOCIZJTELRQMF-QFXBJFAPSA-N</td>\n",
       "      <td>WPOCIZJTELRQMF-QFXBJFAPSA-N</td>\n",
       "      <td>InChI=1S/C18H22O3/c1-18-7-6-13-12-5-3-11(19)8-10(12)2-4-14(13)15(18)9-16(20)17(18)21/h3,5,8,13-16,19-20H,2,4,6-7,9H2,1H3/t13-,14-,15+,16-,18+/m1/s1</td>\n",
       "      <td>[H][C@@]12C[C@@H](O)C(=O)[C@@]1(C)CC[C@]1([H])C3=C(CC[C@@]21[H])C=C(O)C=C3</td>\n",
       "      <td>C18H22O3</td>\n",
       "      <td>286.371</td>\n",
       "      <td>16alpha-hydroxyestrone</td>\n",
       "      <td>chebi:776|chebi:60497|cas:566-76-7|inchikey:WPOCIZJTELRQMF-QFXBJFAPSA-N|chebi:776|chebi:60497|cas:566-76-7|inchikey:WPOCIZJTELRQMF-QFXBJFAPSA-N|chebi:776|chebi:60497|cas:566-76-7|inchikey:WPOCIZJTELRQMF-QFXBJFAPSA-N|chebi:776|chebi:60497|cas:566-76-7|inchikey:WPOCIZJTELRQMF-QFXBJFAPSA-N|chebi:776|chebi:60497|cas:566-76-7|inchikey:WPOCIZJTELRQMF-QFXBJFAPSA-N|chembl:CHEMBL1233720</td>\n",
       "      <td>WPOCIZJTELRQMF-QFXBJFAPSA-N</td>\n",
       "      <td>InChI=1S/C18H22O3/c1-18-7-6-13-12-5-3-11(19)8-10(12)2-4-14(13)15(18)9-16(20)17(18)21/h3,5,8,13-16,19-20H,2,4,6-7,9H2,1H3/t13-,14-,15+,16-,18+/m1/s1</td>\n",
       "      <td>[H][C@@]12C[C@@H](O)C(=O)[C@@]1(C)CC[C@]1([H])C3=C(CC[C@@]21[H])C=C(O)C=C3</td>\n",
       "      <td>C18H22O3</td>\n",
       "      <td>286.371</td>\n",
       "    </tr>\n",
       "    <tr>\n",
       "      <th>3</th>\n",
       "      <td>inchikey:YOYAIZYFCNQIRF-UHFFFAOYSA-N</td>\n",
       "      <td>2,6-dichlorobenzonitrile</td>\n",
       "      <td>chebi:943|chebi:73174|cas:1194-65-6|inchikey:YOYAIZYFCNQIRF-UHFFFAOYSA-N</td>\n",
       "      <td>YOYAIZYFCNQIRF-UHFFFAOYSA-N</td>\n",
       "      <td>InChI=1S/C7H3Cl2N/c8-6-2-1-3-7(9)5(6)4-10/h1-3H</td>\n",
       "      <td>Clc1cccc(Cl)c1C#N</td>\n",
       "      <td>C7H3Cl2N</td>\n",
       "      <td>172.01086</td>\n",
       "      <td>2,6-dichlorobenzonitrile</td>\n",
       "      <td>chebi:943|chebi:73174|cas:1194-65-6|inchikey:YOYAIZYFCNQIRF-UHFFFAOYSA-N|chebi:943|chebi:73174|cas:1194-65-6|inchikey:YOYAIZYFCNQIRF-UHFFFAOYSA-N|chebi:943|chebi:73174|cas:1194-65-6|inchikey:YOYAIZYFCNQIRF-UHFFFAOYSA-N|chebi:943|chebi:73174|cas:1194-65-6|inchikey:YOYAIZYFCNQIRF-UHFFFAOYSA-N|chebi:943|chebi:73174|cas:1194-65-6|inchikey:YOYAIZYFCNQIRF-UHFFFAOYSA-N|chembl:CHEMBL3039332</td>\n",
       "      <td>YOYAIZYFCNQIRF-UHFFFAOYSA-N</td>\n",
       "      <td>InChI=1S/C7H3Cl2N/c8-6-2-1-3-7(9)5(6)4-10/h1-3H</td>\n",
       "      <td>Clc1cccc(Cl)c1C#N</td>\n",
       "      <td>C7H3Cl2N</td>\n",
       "      <td>172.01086</td>\n",
       "    </tr>\n",
       "    <tr>\n",
       "      <th>4</th>\n",
       "      <td>inchikey:AFENDNXGAFYKQO-UHFFFAOYSA-N</td>\n",
       "      <td>2-hydroxybutyric acid</td>\n",
       "      <td>chebi:1148|chebi:675746|cas:600-15-7|inchikey:AFENDNXGAFYKQO-UHFFFAOYSA-N</td>\n",
       "      <td>AFENDNXGAFYKQO-UHFFFAOYSA-N</td>\n",
       "      <td>InChI=1S/C4H8O3/c1-2-3(5)4(6)7/h3,5H,2H2,1H3,(H,6,7)</td>\n",
       "      <td>CCC(O)C(O)=O</td>\n",
       "      <td>C4H8O3</td>\n",
       "      <td>104.10450</td>\n",
       "      <td>2-hydroxybutyric acid</td>\n",
       "      <td>chebi:1148|chebi:675746|cas:600-15-7|inchikey:AFENDNXGAFYKQO-UHFFFAOYSA-N|chebi:1148|chebi:675746|cas:600-15-7|inchikey:AFENDNXGAFYKQO-UHFFFAOYSA-N|chebi:1148|chebi:675746|cas:600-15-7|inchikey:AFENDNXGAFYKQO-UHFFFAOYSA-N|chebi:1148|chebi:675746|cas:600-15-7|inchikey:AFENDNXGAFYKQO-UHFFFAOYSA-N|chebi:1148|chebi:675746|cas:600-15-7|inchikey:AFENDNXGAFYKQO-UHFFFAOYSA-N|chembl:CHEMBL567588</td>\n",
       "      <td>AFENDNXGAFYKQO-UHFFFAOYSA-N</td>\n",
       "      <td>InChI=1S/C4H8O3/c1-2-3(5)4(6)7/h3,5H,2H2,1H3,(H,6,7)</td>\n",
       "      <td>CCC(O)C(O)=O</td>\n",
       "      <td>C4H8O3</td>\n",
       "      <td>104.10450</td>\n",
       "    </tr>\n",
       "  </tbody>\n",
       "</table>\n",
       "</div>"
      ],
      "text/plain": [
       "                                     id                    name_x  \\\n",
       "0  inchikey:PFTAWBLQPZVEMU-UKRRQHHQSA-N           (-)-epicatechin   \n",
       "1  inchikey:LHXDLQBQYFFVNW-XCBNKYQSSA-N          (1S,4R)-fenchone   \n",
       "2  inchikey:WPOCIZJTELRQMF-QFXBJFAPSA-N    16alpha-hydroxyestrone   \n",
       "3  inchikey:YOYAIZYFCNQIRF-UHFFFAOYSA-N  2,6-dichlorobenzonitrile   \n",
       "4  inchikey:AFENDNXGAFYKQO-UHFFFAOYSA-N     2-hydroxybutyric acid   \n",
       "\n",
       "                                                                       ids_x  \\\n",
       "0     chebi:90|chebi:18484|cas:490-46-0|inchikey:PFTAWBLQPZVEMU-UKRRQHHQSA-N   \n",
       "1   chebi:165|chebi:63901|cas:4695-62-9|inchikey:LHXDLQBQYFFVNW-XCBNKYQSSA-N   \n",
       "2    chebi:776|chebi:60497|cas:566-76-7|inchikey:WPOCIZJTELRQMF-QFXBJFAPSA-N   \n",
       "3   chebi:943|chebi:73174|cas:1194-65-6|inchikey:YOYAIZYFCNQIRF-UHFFFAOYSA-N   \n",
       "4  chebi:1148|chebi:675746|cas:600-15-7|inchikey:AFENDNXGAFYKQO-UHFFFAOYSA-N   \n",
       "\n",
       "                    inchiKey_x  \\\n",
       "0  PFTAWBLQPZVEMU-UKRRQHHQSA-N   \n",
       "1  LHXDLQBQYFFVNW-XCBNKYQSSA-N   \n",
       "2  WPOCIZJTELRQMF-QFXBJFAPSA-N   \n",
       "3  YOYAIZYFCNQIRF-UHFFFAOYSA-N   \n",
       "4  AFENDNXGAFYKQO-UHFFFAOYSA-N   \n",
       "\n",
       "                                                                                                                                               inchi_x  \\\n",
       "0                                     InChI=1S/C15H14O6/c16-8-4-11(18)9-6-13(20)15(21-14(9)5-8)7-1-2-10(17)12(19)3-7/h1-5,13,15-20H,6H2/t13-,15-/m1/s1   \n",
       "1                                                                          InChI=1S/C10H16O/c1-9(2)7-4-5-10(3,6-7)8(9)11/h7H,4-6H2,1-3H3/t7-,10+/m1/s1   \n",
       "2  InChI=1S/C18H22O3/c1-18-7-6-13-12-5-3-11(19)8-10(12)2-4-14(13)15(18)9-16(20)17(18)21/h3,5,8,13-16,19-20H,2,4,6-7,9H2,1H3/t13-,14-,15+,16-,18+/m1/s1   \n",
       "3                                                                                                      InChI=1S/C7H3Cl2N/c8-6-2-1-3-7(9)5(6)4-10/h1-3H   \n",
       "4                                                                                                 InChI=1S/C4H8O3/c1-2-3(5)4(6)7/h3,5H,2H2,1H3,(H,6,7)   \n",
       "\n",
       "                                                                     smiles_x  \\\n",
       "0                            [H][C@@]1(Oc2cc(O)cc(O)c2C[C@H]1O)c1ccc(O)c(O)c1   \n",
       "1                                             CC1(C)[C@@H]2CC[C@@](C)(C2)C1=O   \n",
       "2  [H][C@@]12C[C@@H](O)C(=O)[C@@]1(C)CC[C@]1([H])C3=C(CC[C@@]21[H])C=C(O)C=C3   \n",
       "3                                                           Clc1cccc(Cl)c1C#N   \n",
       "4                                                                CCC(O)C(O)=O   \n",
       "\n",
       "  formula_x     mass_x                    name_y  \\\n",
       "0  C15H14O6  290.26810           (-)-epicatechin   \n",
       "1   C10H16O  152.23340          (1S,4R)-fenchone   \n",
       "2  C18H22O3    286.371    16alpha-hydroxyestrone   \n",
       "3  C7H3Cl2N  172.01086  2,6-dichlorobenzonitrile   \n",
       "4    C4H8O3  104.10450     2-hydroxybutyric acid   \n",
       "\n",
       "                                                                                                                                                                                                                                                                                                                                                                                                   ids_y  \\\n",
       "0                 chebi:90|chebi:18484|cas:490-46-0|inchikey:PFTAWBLQPZVEMU-UKRRQHHQSA-N|chebi:90|chebi:18484|cas:490-46-0|inchikey:PFTAWBLQPZVEMU-UKRRQHHQSA-N|chebi:90|chebi:18484|cas:490-46-0|inchikey:PFTAWBLQPZVEMU-UKRRQHHQSA-N|chebi:90|chebi:18484|cas:490-46-0|inchikey:PFTAWBLQPZVEMU-UKRRQHHQSA-N|chebi:90|chebi:18484|cas:490-46-0|inchikey:PFTAWBLQPZVEMU-UKRRQHHQSA-N|chembl:CHEMBL583912   \n",
       "1                           chebi:165|chebi:63901|cas:4695-62-9|inchikey:LHXDLQBQYFFVNW-XCBNKYQSSA-N|chebi:165|chebi:63901|cas:4695-62-9|inchikey:LHXDLQBQYFFVNW-XCBNKYQSSA-N|chebi:165|chebi:63901|cas:4695-62-9|inchikey:LHXDLQBQYFFVNW-XCBNKYQSSA-N|chebi:165|chebi:63901|cas:4695-62-9|inchikey:LHXDLQBQYFFVNW-XCBNKYQSSA-N|chebi:165|chebi:63901|cas:4695-62-9|inchikey:LHXDLQBQYFFVNW-XCBNKYQSSA-N   \n",
       "2           chebi:776|chebi:60497|cas:566-76-7|inchikey:WPOCIZJTELRQMF-QFXBJFAPSA-N|chebi:776|chebi:60497|cas:566-76-7|inchikey:WPOCIZJTELRQMF-QFXBJFAPSA-N|chebi:776|chebi:60497|cas:566-76-7|inchikey:WPOCIZJTELRQMF-QFXBJFAPSA-N|chebi:776|chebi:60497|cas:566-76-7|inchikey:WPOCIZJTELRQMF-QFXBJFAPSA-N|chebi:776|chebi:60497|cas:566-76-7|inchikey:WPOCIZJTELRQMF-QFXBJFAPSA-N|chembl:CHEMBL1233720   \n",
       "3      chebi:943|chebi:73174|cas:1194-65-6|inchikey:YOYAIZYFCNQIRF-UHFFFAOYSA-N|chebi:943|chebi:73174|cas:1194-65-6|inchikey:YOYAIZYFCNQIRF-UHFFFAOYSA-N|chebi:943|chebi:73174|cas:1194-65-6|inchikey:YOYAIZYFCNQIRF-UHFFFAOYSA-N|chebi:943|chebi:73174|cas:1194-65-6|inchikey:YOYAIZYFCNQIRF-UHFFFAOYSA-N|chebi:943|chebi:73174|cas:1194-65-6|inchikey:YOYAIZYFCNQIRF-UHFFFAOYSA-N|chembl:CHEMBL3039332   \n",
       "4  chebi:1148|chebi:675746|cas:600-15-7|inchikey:AFENDNXGAFYKQO-UHFFFAOYSA-N|chebi:1148|chebi:675746|cas:600-15-7|inchikey:AFENDNXGAFYKQO-UHFFFAOYSA-N|chebi:1148|chebi:675746|cas:600-15-7|inchikey:AFENDNXGAFYKQO-UHFFFAOYSA-N|chebi:1148|chebi:675746|cas:600-15-7|inchikey:AFENDNXGAFYKQO-UHFFFAOYSA-N|chebi:1148|chebi:675746|cas:600-15-7|inchikey:AFENDNXGAFYKQO-UHFFFAOYSA-N|chembl:CHEMBL567588   \n",
       "\n",
       "                    inchiKey_y  \\\n",
       "0  PFTAWBLQPZVEMU-UKRRQHHQSA-N   \n",
       "1  LHXDLQBQYFFVNW-XCBNKYQSSA-N   \n",
       "2  WPOCIZJTELRQMF-QFXBJFAPSA-N   \n",
       "3  YOYAIZYFCNQIRF-UHFFFAOYSA-N   \n",
       "4  AFENDNXGAFYKQO-UHFFFAOYSA-N   \n",
       "\n",
       "                                                                                                                                               inchi_y  \\\n",
       "0                                     InChI=1S/C15H14O6/c16-8-4-11(18)9-6-13(20)15(21-14(9)5-8)7-1-2-10(17)12(19)3-7/h1-5,13,15-20H,6H2/t13-,15-/m1/s1   \n",
       "1                                                                          InChI=1S/C10H16O/c1-9(2)7-4-5-10(3,6-7)8(9)11/h7H,4-6H2,1-3H3/t7-,10+/m1/s1   \n",
       "2  InChI=1S/C18H22O3/c1-18-7-6-13-12-5-3-11(19)8-10(12)2-4-14(13)15(18)9-16(20)17(18)21/h3,5,8,13-16,19-20H,2,4,6-7,9H2,1H3/t13-,14-,15+,16-,18+/m1/s1   \n",
       "3                                                                                                      InChI=1S/C7H3Cl2N/c8-6-2-1-3-7(9)5(6)4-10/h1-3H   \n",
       "4                                                                                                 InChI=1S/C4H8O3/c1-2-3(5)4(6)7/h3,5H,2H2,1H3,(H,6,7)   \n",
       "\n",
       "                                                                     smiles_y  \\\n",
       "0                            [H][C@@]1(Oc2cc(O)cc(O)c2C[C@H]1O)c1ccc(O)c(O)c1   \n",
       "1                                             CC1(C)[C@@H]2CC[C@@](C)(C2)C1=O   \n",
       "2  [H][C@@]12C[C@@H](O)C(=O)[C@@]1(C)CC[C@]1([H])C3=C(CC[C@@]21[H])C=C(O)C=C3   \n",
       "3                                                           Clc1cccc(Cl)c1C#N   \n",
       "4                                                                CCC(O)C(O)=O   \n",
       "\n",
       "  formula_y     mass_y  \n",
       "0  C15H14O6  290.26810  \n",
       "1   C10H16O  152.23340  \n",
       "2  C18H22O3    286.371  \n",
       "3  C7H3Cl2N  172.01086  \n",
       "4    C4H8O3  104.10450  "
      ]
     },
     "execution_count": 13,
     "metadata": {},
     "output_type": "execute_result"
    }
   ],
   "source": [
    "nodes.head()"
   ]
  },
  {
   "cell_type": "markdown",
   "metadata": {},
   "source": [
    "Create a new column that contains the first non-null value from the two columns that couldn't be merged"
   ]
  },
  {
   "cell_type": "code",
   "execution_count": 14,
   "metadata": {},
   "outputs": [],
   "source": [
    "nodes = backfill(nodes, 'formula', ['formula_x', 'formula_y'], delete=True)\n",
    "nodes = backfill(nodes, 'name', ['name_x', 'name_y'], delete=True)\n",
    "nodes = backfill(nodes, 'smiles', ['smiles_x', 'smiles_y'], delete=True)\n",
    "nodes = backfill(nodes, 'inchi', ['inchi_x', 'inchi_y'], delete=True)\n",
    "nodes = backfill(nodes, 'inchiKey', ['inchiKey_x', 'inchiKey_y'], delete=True)\n",
    "nodes = backfill(nodes, 'mass', ['mass_x', 'mass_y'], delete=True)"
   ]
  },
  {
   "cell_type": "code",
   "execution_count": 15,
   "metadata": {},
   "outputs": [],
   "source": [
    "# concatenate two columns if they contain values\n",
    "nodes.fillna('', inplace=True)\n",
    "nodes = join_string_columns(nodes, 'ids', ['ids_x', 'ids_y'], delete=True)"
   ]
  },
  {
   "cell_type": "code",
   "execution_count": 16,
   "metadata": {},
   "outputs": [
    {
     "name": "stdout",
     "output_type": "stream",
     "text": [
      "Number of nodes 2380115\n"
     ]
    },
    {
     "data": {
      "text/html": [
       "<div>\n",
       "<style scoped>\n",
       "    .dataframe tbody tr th:only-of-type {\n",
       "        vertical-align: middle;\n",
       "    }\n",
       "\n",
       "    .dataframe tbody tr th {\n",
       "        vertical-align: top;\n",
       "    }\n",
       "\n",
       "    .dataframe thead th {\n",
       "        text-align: right;\n",
       "    }\n",
       "</style>\n",
       "<table border=\"1\" class=\"dataframe\">\n",
       "  <thead>\n",
       "    <tr style=\"text-align: right;\">\n",
       "      <th></th>\n",
       "      <th>id</th>\n",
       "      <th>formula</th>\n",
       "      <th>name</th>\n",
       "      <th>smiles</th>\n",
       "      <th>inchi</th>\n",
       "      <th>inchiKey</th>\n",
       "      <th>mass</th>\n",
       "      <th>ids</th>\n",
       "    </tr>\n",
       "  </thead>\n",
       "  <tbody>\n",
       "    <tr>\n",
       "      <th>0</th>\n",
       "      <td>inchikey:PFTAWBLQPZVEMU-UKRRQHHQSA-N</td>\n",
       "      <td>C15H14O6</td>\n",
       "      <td>(-)-epicatechin</td>\n",
       "      <td>[H][C@@]1(Oc2cc(O)cc(O)c2C[C@H]1O)c1ccc(O)c(O)c1</td>\n",
       "      <td>InChI=1S/C15H14O6/c16-8-4-11(18)9-6-13(20)15(21-14(9)5-8)7-1-2-10(17)12(19)3-7/h1-5,13,15-20H,6H2/t13-,15-/m1/s1</td>\n",
       "      <td>PFTAWBLQPZVEMU-UKRRQHHQSA-N</td>\n",
       "      <td>290.26810</td>\n",
       "      <td>chebi:90|chebi:18484|cas:490-46-0|inchikey:PFTAWBLQPZVEMU-UKRRQHHQSA-N|chebi:90|chebi:18484|cas:490-46-0|inchikey:PFTAWBLQPZVEMU-UKRRQHHQSA-N|chebi:90|chebi:18484|cas:490-46-0|inchikey:PFTAWBLQPZVEMU-UKRRQHHQSA-N|chebi:90|chebi:18484|cas:490-46-0|inchikey:PFTAWBLQPZVEMU-UKRRQHHQSA-N|chebi:90|chebi:18484|cas:490-46-0|inchikey:PFTAWBLQPZVEMU-UKRRQHHQSA-N|chebi:90|chebi:18484|cas:490-46-0|inchikey:PFTAWBLQPZVEMU-UKRRQHHQSA-N|chembl:CHEMBL583912</td>\n",
       "    </tr>\n",
       "    <tr>\n",
       "      <th>1</th>\n",
       "      <td>inchikey:LHXDLQBQYFFVNW-XCBNKYQSSA-N</td>\n",
       "      <td>C10H16O</td>\n",
       "      <td>(1S,4R)-fenchone</td>\n",
       "      <td>CC1(C)[C@@H]2CC[C@@](C)(C2)C1=O</td>\n",
       "      <td>InChI=1S/C10H16O/c1-9(2)7-4-5-10(3,6-7)8(9)11/h7H,4-6H2,1-3H3/t7-,10+/m1/s1</td>\n",
       "      <td>LHXDLQBQYFFVNW-XCBNKYQSSA-N</td>\n",
       "      <td>152.23340</td>\n",
       "      <td>chebi:165|chebi:63901|cas:4695-62-9|inchikey:LHXDLQBQYFFVNW-XCBNKYQSSA-N|chebi:165|chebi:63901|cas:4695-62-9|inchikey:LHXDLQBQYFFVNW-XCBNKYQSSA-N|chebi:165|chebi:63901|cas:4695-62-9|inchikey:LHXDLQBQYFFVNW-XCBNKYQSSA-N|chebi:165|chebi:63901|cas:4695-62-9|inchikey:LHXDLQBQYFFVNW-XCBNKYQSSA-N|chebi:165|chebi:63901|cas:4695-62-9|inchikey:LHXDLQBQYFFVNW-XCBNKYQSSA-N|chebi:165|chebi:63901|cas:4695-62-9|inchikey:LHXDLQBQYFFVNW-XCBNKYQSSA-N</td>\n",
       "    </tr>\n",
       "    <tr>\n",
       "      <th>2</th>\n",
       "      <td>inchikey:WPOCIZJTELRQMF-QFXBJFAPSA-N</td>\n",
       "      <td>C18H22O3</td>\n",
       "      <td>16alpha-hydroxyestrone</td>\n",
       "      <td>[H][C@@]12C[C@@H](O)C(=O)[C@@]1(C)CC[C@]1([H])C3=C(CC[C@@]21[H])C=C(O)C=C3</td>\n",
       "      <td>InChI=1S/C18H22O3/c1-18-7-6-13-12-5-3-11(19)8-10(12)2-4-14(13)15(18)9-16(20)17(18)21/h3,5,8,13-16,19-20H,2,4,6-7,9H2,1H3/t13-,14-,15+,16-,18+/m1/s1</td>\n",
       "      <td>WPOCIZJTELRQMF-QFXBJFAPSA-N</td>\n",
       "      <td>286.371</td>\n",
       "      <td>chebi:776|chebi:60497|cas:566-76-7|inchikey:WPOCIZJTELRQMF-QFXBJFAPSA-N|chebi:776|chebi:60497|cas:566-76-7|inchikey:WPOCIZJTELRQMF-QFXBJFAPSA-N|chebi:776|chebi:60497|cas:566-76-7|inchikey:WPOCIZJTELRQMF-QFXBJFAPSA-N|chebi:776|chebi:60497|cas:566-76-7|inchikey:WPOCIZJTELRQMF-QFXBJFAPSA-N|chebi:776|chebi:60497|cas:566-76-7|inchikey:WPOCIZJTELRQMF-QFXBJFAPSA-N|chebi:776|chebi:60497|cas:566-76-7|inchikey:WPOCIZJTELRQMF-QFXBJFAPSA-N|chembl:CHEMBL1233720</td>\n",
       "    </tr>\n",
       "    <tr>\n",
       "      <th>3</th>\n",
       "      <td>inchikey:YOYAIZYFCNQIRF-UHFFFAOYSA-N</td>\n",
       "      <td>C7H3Cl2N</td>\n",
       "      <td>2,6-dichlorobenzonitrile</td>\n",
       "      <td>Clc1cccc(Cl)c1C#N</td>\n",
       "      <td>InChI=1S/C7H3Cl2N/c8-6-2-1-3-7(9)5(6)4-10/h1-3H</td>\n",
       "      <td>YOYAIZYFCNQIRF-UHFFFAOYSA-N</td>\n",
       "      <td>172.01086</td>\n",
       "      <td>chebi:943|chebi:73174|cas:1194-65-6|inchikey:YOYAIZYFCNQIRF-UHFFFAOYSA-N|chebi:943|chebi:73174|cas:1194-65-6|inchikey:YOYAIZYFCNQIRF-UHFFFAOYSA-N|chebi:943|chebi:73174|cas:1194-65-6|inchikey:YOYAIZYFCNQIRF-UHFFFAOYSA-N|chebi:943|chebi:73174|cas:1194-65-6|inchikey:YOYAIZYFCNQIRF-UHFFFAOYSA-N|chebi:943|chebi:73174|cas:1194-65-6|inchikey:YOYAIZYFCNQIRF-UHFFFAOYSA-N|chebi:943|chebi:73174|cas:1194-65-6|inchikey:YOYAIZYFCNQIRF-UHFFFAOYSA-N|chembl:CHEMBL3039332</td>\n",
       "    </tr>\n",
       "    <tr>\n",
       "      <th>4</th>\n",
       "      <td>inchikey:AFENDNXGAFYKQO-UHFFFAOYSA-N</td>\n",
       "      <td>C4H8O3</td>\n",
       "      <td>2-hydroxybutyric acid</td>\n",
       "      <td>CCC(O)C(O)=O</td>\n",
       "      <td>InChI=1S/C4H8O3/c1-2-3(5)4(6)7/h3,5H,2H2,1H3,(H,6,7)</td>\n",
       "      <td>AFENDNXGAFYKQO-UHFFFAOYSA-N</td>\n",
       "      <td>104.10450</td>\n",
       "      <td>chebi:1148|chebi:675746|cas:600-15-7|inchikey:AFENDNXGAFYKQO-UHFFFAOYSA-N|chebi:1148|chebi:675746|cas:600-15-7|inchikey:AFENDNXGAFYKQO-UHFFFAOYSA-N|chebi:1148|chebi:675746|cas:600-15-7|inchikey:AFENDNXGAFYKQO-UHFFFAOYSA-N|chebi:1148|chebi:675746|cas:600-15-7|inchikey:AFENDNXGAFYKQO-UHFFFAOYSA-N|chebi:1148|chebi:675746|cas:600-15-7|inchikey:AFENDNXGAFYKQO-UHFFFAOYSA-N|chebi:1148|chebi:675746|cas:600-15-7|inchikey:AFENDNXGAFYKQO-UHFFFAOYSA-N|chembl:CHEMBL567588</td>\n",
       "    </tr>\n",
       "  </tbody>\n",
       "</table>\n",
       "</div>"
      ],
      "text/plain": [
       "                                     id   formula                      name  \\\n",
       "0  inchikey:PFTAWBLQPZVEMU-UKRRQHHQSA-N  C15H14O6           (-)-epicatechin   \n",
       "1  inchikey:LHXDLQBQYFFVNW-XCBNKYQSSA-N   C10H16O          (1S,4R)-fenchone   \n",
       "2  inchikey:WPOCIZJTELRQMF-QFXBJFAPSA-N  C18H22O3    16alpha-hydroxyestrone   \n",
       "3  inchikey:YOYAIZYFCNQIRF-UHFFFAOYSA-N  C7H3Cl2N  2,6-dichlorobenzonitrile   \n",
       "4  inchikey:AFENDNXGAFYKQO-UHFFFAOYSA-N    C4H8O3     2-hydroxybutyric acid   \n",
       "\n",
       "                                                                       smiles  \\\n",
       "0                            [H][C@@]1(Oc2cc(O)cc(O)c2C[C@H]1O)c1ccc(O)c(O)c1   \n",
       "1                                             CC1(C)[C@@H]2CC[C@@](C)(C2)C1=O   \n",
       "2  [H][C@@]12C[C@@H](O)C(=O)[C@@]1(C)CC[C@]1([H])C3=C(CC[C@@]21[H])C=C(O)C=C3   \n",
       "3                                                           Clc1cccc(Cl)c1C#N   \n",
       "4                                                                CCC(O)C(O)=O   \n",
       "\n",
       "                                                                                                                                                 inchi  \\\n",
       "0                                     InChI=1S/C15H14O6/c16-8-4-11(18)9-6-13(20)15(21-14(9)5-8)7-1-2-10(17)12(19)3-7/h1-5,13,15-20H,6H2/t13-,15-/m1/s1   \n",
       "1                                                                          InChI=1S/C10H16O/c1-9(2)7-4-5-10(3,6-7)8(9)11/h7H,4-6H2,1-3H3/t7-,10+/m1/s1   \n",
       "2  InChI=1S/C18H22O3/c1-18-7-6-13-12-5-3-11(19)8-10(12)2-4-14(13)15(18)9-16(20)17(18)21/h3,5,8,13-16,19-20H,2,4,6-7,9H2,1H3/t13-,14-,15+,16-,18+/m1/s1   \n",
       "3                                                                                                      InChI=1S/C7H3Cl2N/c8-6-2-1-3-7(9)5(6)4-10/h1-3H   \n",
       "4                                                                                                 InChI=1S/C4H8O3/c1-2-3(5)4(6)7/h3,5H,2H2,1H3,(H,6,7)   \n",
       "\n",
       "                      inchiKey       mass  \\\n",
       "0  PFTAWBLQPZVEMU-UKRRQHHQSA-N  290.26810   \n",
       "1  LHXDLQBQYFFVNW-XCBNKYQSSA-N  152.23340   \n",
       "2  WPOCIZJTELRQMF-QFXBJFAPSA-N    286.371   \n",
       "3  YOYAIZYFCNQIRF-UHFFFAOYSA-N  172.01086   \n",
       "4  AFENDNXGAFYKQO-UHFFFAOYSA-N  104.10450   \n",
       "\n",
       "                                                                                                                                                                                                                                                                                                                                                                                                                                                                               ids  \n",
       "0                    chebi:90|chebi:18484|cas:490-46-0|inchikey:PFTAWBLQPZVEMU-UKRRQHHQSA-N|chebi:90|chebi:18484|cas:490-46-0|inchikey:PFTAWBLQPZVEMU-UKRRQHHQSA-N|chebi:90|chebi:18484|cas:490-46-0|inchikey:PFTAWBLQPZVEMU-UKRRQHHQSA-N|chebi:90|chebi:18484|cas:490-46-0|inchikey:PFTAWBLQPZVEMU-UKRRQHHQSA-N|chebi:90|chebi:18484|cas:490-46-0|inchikey:PFTAWBLQPZVEMU-UKRRQHHQSA-N|chebi:90|chebi:18484|cas:490-46-0|inchikey:PFTAWBLQPZVEMU-UKRRQHHQSA-N|chembl:CHEMBL583912  \n",
       "1                            chebi:165|chebi:63901|cas:4695-62-9|inchikey:LHXDLQBQYFFVNW-XCBNKYQSSA-N|chebi:165|chebi:63901|cas:4695-62-9|inchikey:LHXDLQBQYFFVNW-XCBNKYQSSA-N|chebi:165|chebi:63901|cas:4695-62-9|inchikey:LHXDLQBQYFFVNW-XCBNKYQSSA-N|chebi:165|chebi:63901|cas:4695-62-9|inchikey:LHXDLQBQYFFVNW-XCBNKYQSSA-N|chebi:165|chebi:63901|cas:4695-62-9|inchikey:LHXDLQBQYFFVNW-XCBNKYQSSA-N|chebi:165|chebi:63901|cas:4695-62-9|inchikey:LHXDLQBQYFFVNW-XCBNKYQSSA-N  \n",
       "2             chebi:776|chebi:60497|cas:566-76-7|inchikey:WPOCIZJTELRQMF-QFXBJFAPSA-N|chebi:776|chebi:60497|cas:566-76-7|inchikey:WPOCIZJTELRQMF-QFXBJFAPSA-N|chebi:776|chebi:60497|cas:566-76-7|inchikey:WPOCIZJTELRQMF-QFXBJFAPSA-N|chebi:776|chebi:60497|cas:566-76-7|inchikey:WPOCIZJTELRQMF-QFXBJFAPSA-N|chebi:776|chebi:60497|cas:566-76-7|inchikey:WPOCIZJTELRQMF-QFXBJFAPSA-N|chebi:776|chebi:60497|cas:566-76-7|inchikey:WPOCIZJTELRQMF-QFXBJFAPSA-N|chembl:CHEMBL1233720  \n",
       "3       chebi:943|chebi:73174|cas:1194-65-6|inchikey:YOYAIZYFCNQIRF-UHFFFAOYSA-N|chebi:943|chebi:73174|cas:1194-65-6|inchikey:YOYAIZYFCNQIRF-UHFFFAOYSA-N|chebi:943|chebi:73174|cas:1194-65-6|inchikey:YOYAIZYFCNQIRF-UHFFFAOYSA-N|chebi:943|chebi:73174|cas:1194-65-6|inchikey:YOYAIZYFCNQIRF-UHFFFAOYSA-N|chebi:943|chebi:73174|cas:1194-65-6|inchikey:YOYAIZYFCNQIRF-UHFFFAOYSA-N|chebi:943|chebi:73174|cas:1194-65-6|inchikey:YOYAIZYFCNQIRF-UHFFFAOYSA-N|chembl:CHEMBL3039332  \n",
       "4  chebi:1148|chebi:675746|cas:600-15-7|inchikey:AFENDNXGAFYKQO-UHFFFAOYSA-N|chebi:1148|chebi:675746|cas:600-15-7|inchikey:AFENDNXGAFYKQO-UHFFFAOYSA-N|chebi:1148|chebi:675746|cas:600-15-7|inchikey:AFENDNXGAFYKQO-UHFFFAOYSA-N|chebi:1148|chebi:675746|cas:600-15-7|inchikey:AFENDNXGAFYKQO-UHFFFAOYSA-N|chebi:1148|chebi:675746|cas:600-15-7|inchikey:AFENDNXGAFYKQO-UHFFFAOYSA-N|chebi:1148|chebi:675746|cas:600-15-7|inchikey:AFENDNXGAFYKQO-UHFFFAOYSA-N|chembl:CHEMBL567588  "
      ]
     },
     "execution_count": 16,
     "metadata": {},
     "output_type": "execute_result"
    }
   ],
   "source": [
    "print('Number of nodes', nodes.shape[0])\n",
    "nodes.head()"
   ]
  },
  {
   "cell_type": "code",
   "execution_count": 17,
   "metadata": {},
   "outputs": [],
   "source": [
    "NODE_DATA = os.getenv('NODE_DATA', default='../data/nodes/')\n",
    "RELATIONSHIP_DATA = os.getenv('RELATIONSHIP_DATA', default='../data/relationships/') "
   ]
  },
  {
   "cell_type": "code",
   "execution_count": 18,
   "metadata": {},
   "outputs": [],
   "source": [
    "os.makedirs(os.path.join(NODE_DATA), exist_ok=True)\n",
    "os.makedirs(os.path.join(RELATIONSHIP_DATA), exist_ok=True)"
   ]
  },
  {
   "cell_type": "code",
   "execution_count": 19,
   "metadata": {},
   "outputs": [],
   "source": [
    "nodes[['id', 'name', 'ids', 'inchiKey', 'inchi', 'smiles', 'formula', 'mass']].to_parquet(os.path.join(NODE_DATA, node_filename), index=False)"
   ]
  }
 ],
 "metadata": {
  "kernelspec": {
   "display_name": "Python 3 (ipykernel)",
   "language": "python",
   "name": "python3"
  },
  "language_info": {
   "codemirror_mode": {
    "name": "ipython",
    "version": 3
   },
   "file_extension": ".py",
   "mimetype": "text/x-python",
   "name": "python",
   "nbconvert_exporter": "python",
   "pygments_lexer": "ipython3",
   "version": "3.7.12"
  }
 },
 "nbformat": 4,
 "nbformat_minor": 4
}
